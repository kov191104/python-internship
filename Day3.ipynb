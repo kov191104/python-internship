{
 "cells": [
  {
   "cell_type": "markdown",
   "id": "47e396c8-6d24-4e3c-9ddf-308057a922ca",
   "metadata": {},
   "source": [
    "# DAY 3 python"
   ]
  },
  {
   "cell_type": "markdown",
   "id": "451e45aa-4556-4767-9758-90bfd6377d13",
   "metadata": {},
   "source": [
    "## casefold() method\n",
    "#### returns lowercase, Aggressive lower!"
   ]
  },
  {
   "cell_type": "code",
   "execution_count": 2,
   "id": "b86f7086-75f5-455b-9e9f-86759ef8adf1",
   "metadata": {},
   "outputs": [
    {
     "data": {
      "text/plain": [
       "'kovarthana'"
      ]
     },
     "execution_count": 2,
     "metadata": {},
     "output_type": "execute_result"
    }
   ],
   "source": [
    "str='KovARTHana'\n",
    "str.casefold()"
   ]
  },
  {
   "cell_type": "code",
   "execution_count": 3,
   "id": "0e13a04e-0754-44ca-8838-4796ae99f162",
   "metadata": {},
   "outputs": [
    {
     "data": {
      "text/plain": [
       "'straße'"
      ]
     },
     "execution_count": 3,
     "metadata": {},
     "output_type": "execute_result"
    }
   ],
   "source": [
    "str=\"straße\"\n",
    "str.lower()"
   ]
  },
  {
   "cell_type": "code",
   "execution_count": 4,
   "id": "49c6d983-297a-4179-8920-0303c91f307b",
   "metadata": {},
   "outputs": [
    {
     "data": {
      "text/plain": [
       "'strasse'"
      ]
     },
     "execution_count": 4,
     "metadata": {},
     "output_type": "execute_result"
    }
   ],
   "source": [
    "str.casefold()"
   ]
  },
  {
   "cell_type": "code",
   "execution_count": 5,
   "id": "c806949e-d164-4bb2-9a3d-eef7806c0c0e",
   "metadata": {},
   "outputs": [
    {
     "data": {
      "text/plain": [
       "'fluss'"
      ]
     },
     "execution_count": 5,
     "metadata": {},
     "output_type": "execute_result"
    }
   ],
   "source": [
    "str='Fluß'\n",
    "str.casefold()"
   ]
  },
  {
   "cell_type": "markdown",
   "id": "3d1eafb5-8ac6-4853-abdf-33f00fafe0b3",
   "metadata": {},
   "source": [
    "## count() method"
   ]
  },
  {
   "cell_type": "code",
   "execution_count": 6,
   "id": "26e8a910-985b-43b0-8784-90e8c51057b6",
   "metadata": {},
   "outputs": [
    {
     "name": "stdout",
     "output_type": "stream",
     "text": [
      "python is a popular programming language\n"
     ]
    }
   ],
   "source": [
    "msg=\"Python is a popular programming language\"\n",
    "print(msg)"
   ]
  },
  {
   "cell_type": "code",
   "execution_count": 9,
   "id": "c9768ac3-b6c6-4b50-ae53-f3be27821212",
   "metadata": {},
   "outputs": [
    {
     "data": {
      "text/plain": [
       "4"
      ]
     },
     "execution_count": 9,
     "metadata": {},
     "output_type": "execute_result"
    }
   ],
   "source": [
    "msg.count(\"p\") #not case sensitive!"
   ]
  },
  {
   "cell_type": "code",
   "execution_count": 10,
   "id": "a4c82171-0a64-48b6-8a63-e548be50466f",
   "metadata": {},
   "outputs": [
    {
     "data": {
      "text/plain": [
       "1"
      ]
     },
     "execution_count": 10,
     "metadata": {},
     "output_type": "execute_result"
    }
   ],
   "source": [
    "msg.count(\"python\")"
   ]
  },
  {
   "cell_type": "code",
   "execution_count": 11,
   "id": "01686494-e16f-48ec-b8c1-e9b529f2e88a",
   "metadata": {},
   "outputs": [
    {
     "data": {
      "text/plain": [
       "3"
      ]
     },
     "execution_count": 11,
     "metadata": {},
     "output_type": "execute_result"
    }
   ],
   "source": [
    "msg=\"python is wonderful,isn't it?\"\n",
    "msg.count(\"i\")"
   ]
  },
  {
   "cell_type": "code",
   "execution_count": 12,
   "id": "ce1debf0-e4fe-4c6f-9691-d0276ddc95c4",
   "metadata": {},
   "outputs": [
    {
     "data": {
      "text/plain": [
       "2"
      ]
     },
     "execution_count": 12,
     "metadata": {},
     "output_type": "execute_result"
    }
   ],
   "source": [
    "msg.count(\"i\",8)\n",
    "# After 8th index it gives the number of i present"
   ]
  },
  {
   "cell_type": "markdown",
   "id": "932e5269-88b2-4fcc-899c-2bbf165d5298",
   "metadata": {},
   "source": [
    "## Center method"
   ]
  },
  {
   "cell_type": "code",
   "execution_count": 13,
   "id": "63c56520-4e78-4be8-acb1-da8a85a3997a",
   "metadata": {},
   "outputs": [
    {
     "data": {
      "text/plain": [
       "'               python is wonderful                '"
      ]
     },
     "execution_count": 13,
     "metadata": {},
     "output_type": "execute_result"
    }
   ],
   "source": [
    "msg=\"python is wonderful\"\n",
    "msg.center(50)"
   ]
  },
  {
   "cell_type": "code",
   "execution_count": 16,
   "id": "e9bf9bf3-0410-4fa5-852d-07739242077b",
   "metadata": {},
   "outputs": [
    {
     "data": {
      "text/plain": [
       "'***************python is wonderful****************'"
      ]
     },
     "execution_count": 16,
     "metadata": {},
     "output_type": "execute_result"
    }
   ],
   "source": [
    "msg.center(50,\"*\") #Gives new string, doesnt alter the given string!"
   ]
  },
  {
   "cell_type": "markdown",
   "id": "16fb3aba-b1c6-425e-9f75-3a49aaafd89c",
   "metadata": {},
   "source": [
    "## Assignment Operator\n"
   ]
  },
  {
   "cell_type": "code",
   "execution_count": 23,
   "id": "b66d2e9e-71a2-400a-9743-1b70364d342f",
   "metadata": {},
   "outputs": [],
   "source": [
    "x=5\n",
    "y=10"
   ]
  },
  {
   "cell_type": "code",
   "execution_count": 24,
   "id": "9f05d5fb-161f-48f3-b0f8-25e04f8ad1d7",
   "metadata": {},
   "outputs": [
    {
     "data": {
      "text/plain": [
       "15"
      ]
     },
     "execution_count": 24,
     "metadata": {},
     "output_type": "execute_result"
    }
   ],
   "source": [
    "x+=y\n",
    "x"
   ]
  },
  {
   "cell_type": "code",
   "execution_count": 25,
   "id": "837beeb7-1bd2-43fa-80d8-799a10587ece",
   "metadata": {},
   "outputs": [
    {
     "data": {
      "text/plain": [
       "5"
      ]
     },
     "execution_count": 25,
     "metadata": {},
     "output_type": "execute_result"
    }
   ],
   "source": [
    "x-=y\n",
    "x"
   ]
  },
  {
   "cell_type": "code",
   "execution_count": 26,
   "id": "cb5aaf72-70ee-40cf-a0e6-1e86dd0563b0",
   "metadata": {},
   "outputs": [
    {
     "data": {
      "text/plain": [
       "50"
      ]
     },
     "execution_count": 26,
     "metadata": {},
     "output_type": "execute_result"
    }
   ],
   "source": [
    "x*=y\n",
    "x"
   ]
  },
  {
   "cell_type": "code",
   "execution_count": 27,
   "id": "4bb54ed9-1ec8-407a-bc89-ba2fb000500a",
   "metadata": {},
   "outputs": [
    {
     "data": {
      "text/plain": [
       "5"
      ]
     },
     "execution_count": 27,
     "metadata": {},
     "output_type": "execute_result"
    }
   ],
   "source": [
    "x//=y\n",
    "x"
   ]
  },
  {
   "cell_type": "code",
   "execution_count": 28,
   "id": "d80f4475-c5e7-45af-a4c3-6f2e20463d93",
   "metadata": {},
   "outputs": [
    {
     "data": {
      "text/plain": [
       "9765625"
      ]
     },
     "execution_count": 28,
     "metadata": {},
     "output_type": "execute_result"
    }
   ],
   "source": [
    "x**=y\n",
    "x"
   ]
  },
  {
   "cell_type": "markdown",
   "id": "4a9d10fe-af1b-4e0f-b3cb-ce970436cef0",
   "metadata": {},
   "source": [
    "## Queue implementation"
   ]
  },
  {
   "cell_type": "code",
   "execution_count": 29,
   "id": "41773f4c-32a4-4c94-b71f-6cbf6b519264",
   "metadata": {},
   "outputs": [],
   "source": [
    "queue=[]"
   ]
  },
  {
   "cell_type": "code",
   "execution_count": 30,
   "id": "4f99541a-cedb-4dc9-9b1e-68a4ea0a543c",
   "metadata": {},
   "outputs": [],
   "source": [
    "queue.append(\"a\")"
   ]
  },
  {
   "cell_type": "code",
   "execution_count": 31,
   "id": "3fb9b823-3e1f-4d95-9a0d-4353b2db7217",
   "metadata": {},
   "outputs": [],
   "source": [
    "queue.append(\"b\")"
   ]
  },
  {
   "cell_type": "code",
   "execution_count": 32,
   "id": "f1eafbd0-2180-491c-8699-e83545c04568",
   "metadata": {},
   "outputs": [],
   "source": [
    "queue.append(\"c\")"
   ]
  },
  {
   "cell_type": "code",
   "execution_count": 33,
   "id": "bef47bbe-5c3d-473a-b596-a72512beb0e9",
   "metadata": {},
   "outputs": [
    {
     "data": {
      "text/plain": [
       "['a', 'b', 'c']"
      ]
     },
     "execution_count": 33,
     "metadata": {},
     "output_type": "execute_result"
    }
   ],
   "source": [
    "queue"
   ]
  },
  {
   "cell_type": "code",
   "execution_count": 35,
   "id": "2a4e56cf-45a3-499f-8f19-d421e93b5395",
   "metadata": {},
   "outputs": [
    {
     "data": {
      "text/plain": [
       "'a'"
      ]
     },
     "execution_count": 35,
     "metadata": {},
     "output_type": "execute_result"
    }
   ],
   "source": [
    "queue.pop(0)"
   ]
  },
  {
   "cell_type": "code",
   "execution_count": 36,
   "id": "20856231-16f4-4da6-b943-70d896f75eea",
   "metadata": {},
   "outputs": [
    {
     "data": {
      "text/plain": [
       "['b', 'c']"
      ]
     },
     "execution_count": 36,
     "metadata": {},
     "output_type": "execute_result"
    }
   ],
   "source": [
    "queue"
   ]
  },
  {
   "cell_type": "code",
   "execution_count": 37,
   "id": "a4c56093-ab61-437d-b8a4-d6ce22f804da",
   "metadata": {},
   "outputs": [
    {
     "data": {
      "text/plain": [
       "deque([])"
      ]
     },
     "execution_count": 37,
     "metadata": {},
     "output_type": "execute_result"
    }
   ],
   "source": [
    "from collections import deque\n",
    "q=deque()\n",
    "q"
   ]
  },
  {
   "cell_type": "code",
   "execution_count": 38,
   "id": "d2f672b5-c678-4df1-b6b4-5c9015651315",
   "metadata": {},
   "outputs": [],
   "source": [
    "q.append('a')\n",
    "q.append('b')\n",
    "q.append('c')"
   ]
  },
  {
   "cell_type": "code",
   "execution_count": 39,
   "id": "9dc7e02b-26e2-4d29-aed0-89493d0cf098",
   "metadata": {},
   "outputs": [
    {
     "data": {
      "text/plain": [
       "'a'"
      ]
     },
     "execution_count": 39,
     "metadata": {},
     "output_type": "execute_result"
    }
   ],
   "source": [
    "q.popleft()"
   ]
  },
  {
   "cell_type": "code",
   "execution_count": 40,
   "id": "aa7fc09c-ce0e-4f39-a382-06464ffe5647",
   "metadata": {},
   "outputs": [
    {
     "data": {
      "text/plain": [
       "'b'"
      ]
     },
     "execution_count": 40,
     "metadata": {},
     "output_type": "execute_result"
    }
   ],
   "source": [
    "q.popleft()"
   ]
  },
  {
   "cell_type": "code",
   "execution_count": 41,
   "id": "89502a60-1ebf-4be6-adba-f1586b64814b",
   "metadata": {},
   "outputs": [
    {
     "data": {
      "text/plain": [
       "'c'"
      ]
     },
     "execution_count": 41,
     "metadata": {},
     "output_type": "execute_result"
    }
   ],
   "source": [
    "q.popleft()"
   ]
  },
  {
   "cell_type": "code",
   "execution_count": 42,
   "id": "14b2e61a-4324-41c0-bbe0-b51095ce006f",
   "metadata": {},
   "outputs": [],
   "source": [
    "from queue import Queue\n",
    "q=Queue(maxsize=3)\n",
    "q.put('a')\n",
    "q.put('b')\n",
    "q.put('c')"
   ]
  },
  {
   "cell_type": "code",
   "execution_count": 43,
   "id": "379c4663-8ed4-401f-b009-6ce0bd7db001",
   "metadata": {},
   "outputs": [
    {
     "data": {
      "text/plain": [
       "True"
      ]
     },
     "execution_count": 43,
     "metadata": {},
     "output_type": "execute_result"
    }
   ],
   "source": [
    "q.full()"
   ]
  },
  {
   "cell_type": "code",
   "execution_count": 44,
   "id": "7b4309f0-35b0-4857-b934-1c09d95eb9b6",
   "metadata": {},
   "outputs": [
    {
     "data": {
      "text/plain": [
       "'a'"
      ]
     },
     "execution_count": 44,
     "metadata": {},
     "output_type": "execute_result"
    }
   ],
   "source": [
    "q.get()"
   ]
  },
  {
   "cell_type": "code",
   "execution_count": 45,
   "id": "e97be6b9-59be-4295-a9c5-af8f68972409",
   "metadata": {},
   "outputs": [
    {
     "data": {
      "text/plain": [
       "'b'"
      ]
     },
     "execution_count": 45,
     "metadata": {},
     "output_type": "execute_result"
    }
   ],
   "source": [
    "q.get()"
   ]
  },
  {
   "cell_type": "code",
   "execution_count": 46,
   "id": "c7c97a58-9e8a-4406-873f-ef37b749a21e",
   "metadata": {},
   "outputs": [
    {
     "data": {
      "text/plain": [
       "'c'"
      ]
     },
     "execution_count": 46,
     "metadata": {},
     "output_type": "execute_result"
    }
   ],
   "source": [
    "q.get()"
   ]
  },
  {
   "cell_type": "code",
   "execution_count": 47,
   "id": "94e75e51-0327-404f-86a4-ce63cadd59cb",
   "metadata": {},
   "outputs": [
    {
     "data": {
      "text/plain": [
       "False"
      ]
     },
     "execution_count": 47,
     "metadata": {},
     "output_type": "execute_result"
    }
   ],
   "source": [
    "q.full()"
   ]
  },
  {
   "cell_type": "markdown",
   "id": "2a601daa-d78f-4f49-b285-fac43708e9e9",
   "metadata": {},
   "source": [
    "## File handling!"
   ]
  },
  {
   "cell_type": "code",
   "execution_count": 48,
   "id": "66b40bf8-fdc7-4d46-90b9-0ebc6607d49f",
   "metadata": {},
   "outputs": [
    {
     "name": "stdin",
     "output_type": "stream",
     "text": [
      "Enter the number: 56\n"
     ]
    },
    {
     "data": {
      "text/plain": [
       "56"
      ]
     },
     "execution_count": 48,
     "metadata": {},
     "output_type": "execute_result"
    }
   ],
   "source": [
    "x=int(input(\"Enter the number:\"))\n",
    "x"
   ]
  },
  {
   "cell_type": "code",
   "execution_count": 49,
   "id": "4641d22b-d73c-4a6f-a2f6-3027605eefcf",
   "metadata": {},
   "outputs": [
    {
     "data": {
      "text/plain": [
       "\u001b[31mSignature:\u001b[39m\n",
       "open(\n",
       "    file,\n",
       "    mode=\u001b[33m'r'\u001b[39m,\n",
       "    buffering=-\u001b[32m1\u001b[39m,\n",
       "    encoding=\u001b[38;5;28;01mNone\u001b[39;00m,\n",
       "    errors=\u001b[38;5;28;01mNone\u001b[39;00m,\n",
       "    newline=\u001b[38;5;28;01mNone\u001b[39;00m,\n",
       "    closefd=\u001b[38;5;28;01mTrue\u001b[39;00m,\n",
       "    opener=\u001b[38;5;28;01mNone\u001b[39;00m,\n",
       ")\n",
       "\u001b[31mDocstring:\u001b[39m\n",
       "Open file and return a stream.  Raise OSError upon failure.\n",
       "\n",
       "file is either a text or byte string giving the name (and the path\n",
       "if the file isn't in the current working directory) of the file to\n",
       "be opened or an integer file descriptor of the file to be\n",
       "wrapped. (If a file descriptor is given, it is closed when the\n",
       "returned I/O object is closed, unless closefd is set to False.)\n",
       "\n",
       "mode is an optional string that specifies the mode in which the file\n",
       "is opened. It defaults to 'r' which means open for reading in text\n",
       "mode.  Other common values are 'w' for writing (truncating the file if\n",
       "it already exists), 'x' for creating and writing to a new file, and\n",
       "'a' for appending (which on some Unix systems, means that all writes\n",
       "append to the end of the file regardless of the current seek position).\n",
       "In text mode, if encoding is not specified the encoding used is platform\n",
       "dependent: locale.getencoding() is called to get the current locale encoding.\n",
       "(For reading and writing raw bytes use binary mode and leave encoding\n",
       "unspecified.) The available modes are:\n",
       "\n",
       "========= ===============================================================\n",
       "Character Meaning\n",
       "--------- ---------------------------------------------------------------\n",
       "'r'       open for reading (default)\n",
       "'w'       open for writing, truncating the file first\n",
       "'x'       create a new file and open it for writing\n",
       "'a'       open for writing, appending to the end of the file if it exists\n",
       "'b'       binary mode\n",
       "'t'       text mode (default)\n",
       "'+'       open a disk file for updating (reading and writing)\n",
       "========= ===============================================================\n",
       "\n",
       "The default mode is 'rt' (open for reading text). For binary random\n",
       "access, the mode 'w+b' opens and truncates the file to 0 bytes, while\n",
       "'r+b' opens the file without truncation. The 'x' mode implies 'w' and\n",
       "raises an `FileExistsError` if the file already exists.\n",
       "\n",
       "Python distinguishes between files opened in binary and text modes,\n",
       "even when the underlying operating system doesn't. Files opened in\n",
       "binary mode (appending 'b' to the mode argument) return contents as\n",
       "bytes objects without any decoding. In text mode (the default, or when\n",
       "'t' is appended to the mode argument), the contents of the file are\n",
       "returned as strings, the bytes having been first decoded using a\n",
       "platform-dependent encoding or using the specified encoding if given.\n",
       "\n",
       "buffering is an optional integer used to set the buffering policy.\n",
       "Pass 0 to switch buffering off (only allowed in binary mode), 1 to select\n",
       "line buffering (only usable in text mode), and an integer > 1 to indicate\n",
       "the size of a fixed-size chunk buffer.  When no buffering argument is\n",
       "given, the default buffering policy works as follows:\n",
       "\n",
       "* Binary files are buffered in fixed-size chunks; the size of the buffer\n",
       "  is chosen using a heuristic trying to determine the underlying device's\n",
       "  \"block size\" and falling back on `io.DEFAULT_BUFFER_SIZE`.\n",
       "  On many systems, the buffer will typically be 4096 or 8192 bytes long.\n",
       "\n",
       "* \"Interactive\" text files (files for which isatty() returns True)\n",
       "  use line buffering.  Other text files use the policy described above\n",
       "  for binary files.\n",
       "\n",
       "encoding is the name of the encoding used to decode or encode the\n",
       "file. This should only be used in text mode. The default encoding is\n",
       "platform dependent, but any encoding supported by Python can be\n",
       "passed.  See the codecs module for the list of supported encodings.\n",
       "\n",
       "errors is an optional string that specifies how encoding errors are to\n",
       "be handled---this argument should not be used in binary mode. Pass\n",
       "'strict' to raise a ValueError exception if there is an encoding error\n",
       "(the default of None has the same effect), or pass 'ignore' to ignore\n",
       "errors. (Note that ignoring encoding errors can lead to data loss.)\n",
       "See the documentation for codecs.register or run 'help(codecs.Codec)'\n",
       "for a list of the permitted encoding error strings.\n",
       "\n",
       "newline controls how universal newlines works (it only applies to text\n",
       "mode). It can be None, '', '\\n', '\\r', and '\\r\\n'.  It works as\n",
       "follows:\n",
       "\n",
       "* On input, if newline is None, universal newlines mode is\n",
       "  enabled. Lines in the input can end in '\\n', '\\r', or '\\r\\n', and\n",
       "  these are translated into '\\n' before being returned to the\n",
       "  caller. If it is '', universal newline mode is enabled, but line\n",
       "  endings are returned to the caller untranslated. If it has any of\n",
       "  the other legal values, input lines are only terminated by the given\n",
       "  string, and the line ending is returned to the caller untranslated.\n",
       "\n",
       "* On output, if newline is None, any '\\n' characters written are\n",
       "  translated to the system default line separator, os.linesep. If\n",
       "  newline is '' or '\\n', no translation takes place. If newline is any\n",
       "  of the other legal values, any '\\n' characters written are translated\n",
       "  to the given string.\n",
       "\n",
       "If closefd is False, the underlying file descriptor will be kept open\n",
       "when the file is closed. This does not work when a file name is given\n",
       "and must be True in that case.\n",
       "\n",
       "A custom opener can be used by passing a callable as *opener*. The\n",
       "underlying file descriptor for the file object is then obtained by\n",
       "calling *opener* with (*file*, *flags*). *opener* must return an open\n",
       "file descriptor (passing os.open as *opener* results in functionality\n",
       "similar to passing None).\n",
       "\n",
       "open() returns a file object whose type depends on the mode, and\n",
       "through which the standard file operations such as reading and writing\n",
       "are performed. When open() is used to open a file in a text mode ('w',\n",
       "'r', 'wt', 'rt', etc.), it returns a TextIOWrapper. When used to open\n",
       "a file in a binary mode, the returned class varies: in read binary\n",
       "mode, it returns a BufferedReader; in write binary and append binary\n",
       "modes, it returns a BufferedWriter, and in read/write mode, it returns\n",
       "a BufferedRandom.\n",
       "\n",
       "It is also possible to use a string or bytearray as a file for both\n",
       "reading and writing. For strings StringIO can be used like a file\n",
       "opened in a text mode, and for bytes a BytesIO can be used like a file\n",
       "opened in a binary mode.\n",
       "\u001b[31mType:\u001b[39m      function"
      ]
     },
     "metadata": {},
     "output_type": "display_data"
    }
   ],
   "source": [
    "open?"
   ]
  },
  {
   "cell_type": "code",
   "execution_count": 53,
   "id": "2eceb489-f818-4357-be52-66678b469914",
   "metadata": {},
   "outputs": [],
   "source": [
    "x=open(\"sample.txt\",\"w\")#by default its read mode"
   ]
  },
  {
   "cell_type": "code",
   "execution_count": 55,
   "id": "e54cf192-0ef1-4fa4-ba60-388aded86eb3",
   "metadata": {},
   "outputs": [
    {
     "data": {
      "text/plain": [
       "'sample.txt'"
      ]
     },
     "execution_count": 55,
     "metadata": {},
     "output_type": "execute_result"
    }
   ],
   "source": [
    "x.name"
   ]
  },
  {
   "cell_type": "code",
   "execution_count": 56,
   "id": "574e7304-d863-4db8-bf3a-f44bbedc03ff",
   "metadata": {},
   "outputs": [
    {
     "data": {
      "text/plain": [
       "'w'"
      ]
     },
     "execution_count": 56,
     "metadata": {},
     "output_type": "execute_result"
    }
   ],
   "source": [
    "x.mode"
   ]
  },
  {
   "cell_type": "code",
   "execution_count": 57,
   "id": "85f6496b-b5ac-4445-9cde-2445d60bf905",
   "metadata": {},
   "outputs": [
    {
     "data": {
      "text/plain": [
       "False"
      ]
     },
     "execution_count": 57,
     "metadata": {},
     "output_type": "execute_result"
    }
   ],
   "source": [
    "x.closed"
   ]
  },
  {
   "cell_type": "code",
   "execution_count": 58,
   "id": "00245975-c2cb-4dbd-978b-6c076e02c46a",
   "metadata": {},
   "outputs": [
    {
     "data": {
      "text/plain": [
       "27"
      ]
     },
     "execution_count": 58,
     "metadata": {},
     "output_type": "execute_result"
    }
   ],
   "source": [
    "x.write(\"Heloo , python programming!\")"
   ]
  },
  {
   "cell_type": "code",
   "execution_count": 59,
   "id": "ef788be4-cc00-4197-8aa2-3da4c9d2e0c8",
   "metadata": {},
   "outputs": [],
   "source": [
    "x.close()"
   ]
  },
  {
   "cell_type": "code",
   "execution_count": 60,
   "id": "17cc2fbd-411f-4a3a-903f-9a2afc5f1850",
   "metadata": {},
   "outputs": [
    {
     "data": {
      "text/plain": [
       "True"
      ]
     },
     "execution_count": 60,
     "metadata": {},
     "output_type": "execute_result"
    }
   ],
   "source": [
    "x.closed"
   ]
  },
  {
   "cell_type": "code",
   "execution_count": null,
   "id": "3a0bc0ee-f26f-496c-97b9-ff00d1bfd66f",
   "metadata": {},
   "outputs": [],
   "source": []
  }
 ],
 "metadata": {
  "kernelspec": {
   "display_name": "Python 3 (ipykernel)",
   "language": "python",
   "name": "python3"
  },
  "language_info": {
   "codemirror_mode": {
    "name": "ipython",
    "version": 3
   },
   "file_extension": ".py",
   "mimetype": "text/x-python",
   "name": "python",
   "nbconvert_exporter": "python",
   "pygments_lexer": "ipython3",
   "version": "3.13.2"
  }
 },
 "nbformat": 4,
 "nbformat_minor": 5
}
