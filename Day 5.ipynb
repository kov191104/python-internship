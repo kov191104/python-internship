{
 "cells": [
  {
   "cell_type": "markdown",
   "id": "30f7834b-192c-4596-a6f8-162b8651634b",
   "metadata": {},
   "source": [
    "# DAY 5 python"
   ]
  },
  {
   "cell_type": "markdown",
   "id": "74d91fc2-a2c4-4720-9082-fe80f66f2b0f",
   "metadata": {},
   "source": [
    "## OOPs -MRO"
   ]
  },
  {
   "cell_type": "code",
   "execution_count": 1,
   "id": "2d9caa36-7250-4ad5-b8c9-99fa2546e380",
   "metadata": {},
   "outputs": [],
   "source": [
    "class A:\n",
    "    def display(self):\n",
    "        print(\"qwertyuiop\")"
   ]
  },
  {
   "cell_type": "code",
   "execution_count": 2,
   "id": "62ada2a1-06bc-4491-bb94-d470c8f0d85c",
   "metadata": {},
   "outputs": [],
   "source": [
    "class B:\n",
    "    pass"
   ]
  },
  {
   "cell_type": "code",
   "execution_count": 3,
   "id": "eacf17d3-2386-4ae8-9d46-b6c0acd7a5c9",
   "metadata": {},
   "outputs": [],
   "source": [
    "class C(A,B):\n",
    "    pass"
   ]
  },
  {
   "cell_type": "code",
   "execution_count": 4,
   "id": "fde93fc1-6e80-4a9c-9982-d2603a49c491",
   "metadata": {},
   "outputs": [
    {
     "data": {
      "text/plain": [
       "<function C.mro()>"
      ]
     },
     "execution_count": 4,
     "metadata": {},
     "output_type": "execute_result"
    }
   ],
   "source": [
    "C.mro"
   ]
  },
  {
   "cell_type": "code",
   "execution_count": 6,
   "id": "8556bc1f-5363-4cb9-8ec0-103bd8c42cfc",
   "metadata": {},
   "outputs": [
    {
     "data": {
      "text/plain": [
       "[__main__.C, __main__.A, __main__.B, object]"
      ]
     },
     "execution_count": 6,
     "metadata": {},
     "output_type": "execute_result"
    }
   ],
   "source": [
    "C.mro()"
   ]
  },
  {
   "cell_type": "code",
   "execution_count": 12,
   "id": "41a23250-c274-4483-82c7-71c10a922fd9",
   "metadata": {},
   "outputs": [],
   "source": [
    "class A:\n",
    "    pass"
   ]
  },
  {
   "cell_type": "code",
   "execution_count": 13,
   "id": "db9f6e16-5793-4f6e-bef9-ad08c44abab5",
   "metadata": {},
   "outputs": [],
   "source": [
    "class B:\n",
    "    def display(self):\n",
    "        print(\"asdfghjkl\")\n",
    "    "
   ]
  },
  {
   "cell_type": "code",
   "execution_count": 19,
   "id": "f699d9c2-246c-4b67-aa24-bdbae2a36cbc",
   "metadata": {},
   "outputs": [],
   "source": [
    "class C(A,B):\n",
    "    pass"
   ]
  },
  {
   "cell_type": "code",
   "execution_count": 20,
   "id": "de288d45-b0c3-43ad-94fd-d7ba52bdaf69",
   "metadata": {},
   "outputs": [],
   "source": [
    "obj=C()"
   ]
  },
  {
   "cell_type": "code",
   "execution_count": 21,
   "id": "4a43fd38-dbab-43eb-894a-494420872b72",
   "metadata": {},
   "outputs": [
    {
     "name": "stdout",
     "output_type": "stream",
     "text": [
      "asdfghjkl\n"
     ]
    }
   ],
   "source": [
    "obj.display()"
   ]
  },
  {
   "cell_type": "code",
   "execution_count": 25,
   "id": "cd3a4f28-1bfd-4d5a-bfb7-b69dc8fb339a",
   "metadata": {},
   "outputs": [],
   "source": [
    "class A:\n",
    "    def display(self):\n",
    "        print(\"class of A\")"
   ]
  },
  {
   "cell_type": "code",
   "execution_count": 26,
   "id": "1a97d329-fa03-4a42-8736-70c6a07fb907",
   "metadata": {},
   "outputs": [],
   "source": [
    "class B:\n",
    "    def display(self):\n",
    "        print(\"class of B\")"
   ]
  },
  {
   "cell_type": "code",
   "execution_count": 27,
   "id": "88631918-8b74-40f1-9f75-fe79ffcc4c17",
   "metadata": {},
   "outputs": [],
   "source": [
    "class C(A,B):\n",
    "    def display(self):\n",
    "        print(\"class of C\")"
   ]
  },
  {
   "cell_type": "code",
   "execution_count": 28,
   "id": "d4021c01-2b9c-4253-9c02-7541176c2ad3",
   "metadata": {},
   "outputs": [],
   "source": [
    "class D(C,B):\n",
    "   pass"
   ]
  },
  {
   "cell_type": "code",
   "execution_count": 29,
   "id": "1611c9fc-a7a6-4ef4-841b-b0ac00dfed83",
   "metadata": {},
   "outputs": [],
   "source": [
    "obj=D()"
   ]
  },
  {
   "cell_type": "code",
   "execution_count": 30,
   "id": "a3cf519b-2705-4758-a0d1-b76fdef8659f",
   "metadata": {},
   "outputs": [
    {
     "name": "stdout",
     "output_type": "stream",
     "text": [
      "class of C\n"
     ]
    }
   ],
   "source": [
    "obj.display()"
   ]
  },
  {
   "cell_type": "code",
   "execution_count": 31,
   "id": "357b3340-19dd-4ab1-b984-e39993df594e",
   "metadata": {},
   "outputs": [
    {
     "data": {
      "text/plain": [
       "[__main__.D, __main__.C, __main__.A, __main__.B, object]"
      ]
     },
     "execution_count": 31,
     "metadata": {},
     "output_type": "execute_result"
    }
   ],
   "source": [
    "D.mro()"
   ]
  },
  {
   "cell_type": "markdown",
   "id": "5ec3b3a4-6b26-4ed6-8e91-a024d2e66309",
   "metadata": {},
   "source": [
    "## Functions"
   ]
  },
  {
   "cell_type": "code",
   "execution_count": 35,
   "id": "dbf69b5e-1ee5-4788-85cf-ab611ea79a72",
   "metadata": {},
   "outputs": [
    {
     "name": "stdin",
     "output_type": "stream",
     "text": [
      "Enter a numbeer: 22\n"
     ]
    }
   ],
   "source": [
    "n=int(input(\"Enter a numbeer:\"))"
   ]
  },
  {
   "cell_type": "code",
   "execution_count": 37,
   "id": "90836ded-d3a9-43a8-abbb-ecc3db4c9e9d",
   "metadata": {},
   "outputs": [
    {
     "name": "stdout",
     "output_type": "stream",
     "text": [
      "Even number\n"
     ]
    }
   ],
   "source": [
    "if(n%2==0):\n",
    "    print(\"Even number\")\n",
    "else:\n",
    "    print(\"Odd number\")"
   ]
  },
  {
   "cell_type": "code",
   "execution_count": 38,
   "id": "ba1410d5-c61e-45b4-982b-85e0fe0c3fc2",
   "metadata": {},
   "outputs": [
    {
     "data": {
      "text/plain": [
       "0"
      ]
     },
     "execution_count": 38,
     "metadata": {},
     "output_type": "execute_result"
    }
   ],
   "source": [
    "22%2"
   ]
  },
  {
   "cell_type": "code",
   "execution_count": 43,
   "id": "07b6bde3-7334-485c-bc35-33f588134b1f",
   "metadata": {},
   "outputs": [
    {
     "name": "stdin",
     "output_type": "stream",
     "text": [
      "Enter a numbeer: 111\n"
     ]
    }
   ],
   "source": [
    "x=int(input(\"Enter a numbeer:\"))"
   ]
  },
  {
   "cell_type": "code",
   "execution_count": 45,
   "id": "94593727-d0d2-4049-a74f-931de4aa5841",
   "metadata": {},
   "outputs": [
    {
     "name": "stdout",
     "output_type": "stream",
     "text": [
      "Odd number\n"
     ]
    }
   ],
   "source": [
    "if(x%2==0):\n",
    "    print(\"Even number\")\n",
    "else:\n",
    "    print(\"Odd number\")"
   ]
  },
  {
   "cell_type": "code",
   "execution_count": 51,
   "id": "cedbd7ed-283c-4bb5-a3a9-0a82a585e868",
   "metadata": {},
   "outputs": [],
   "source": [
    "def checkeven():\n",
    "    x=int(input(\"Enter a numbeer:\"))\n",
    "    if(x%2==0):\n",
    "        print(\"Even number\")\n",
    "    else:\n",
    "        print(\"Odd number\")"
   ]
  },
  {
   "cell_type": "code",
   "execution_count": 52,
   "id": "106e5fbd-8f3c-4868-a19d-0345b639c7eb",
   "metadata": {},
   "outputs": [
    {
     "name": "stdin",
     "output_type": "stream",
     "text": [
      "Enter a numbeer: 23456\n"
     ]
    },
    {
     "name": "stdout",
     "output_type": "stream",
     "text": [
      "Even number\n"
     ]
    }
   ],
   "source": [
    "checkeven()"
   ]
  },
  {
   "cell_type": "code",
   "execution_count": 53,
   "id": "06cb7fbe-8781-4851-9c76-ba419c91ad2f",
   "metadata": {},
   "outputs": [
    {
     "name": "stdin",
     "output_type": "stream",
     "text": [
      "Enter a numbeer: 4211\n"
     ]
    },
    {
     "name": "stdout",
     "output_type": "stream",
     "text": [
      "Odd number\n"
     ]
    }
   ],
   "source": [
    "checkeven()"
   ]
  },
  {
   "cell_type": "code",
   "execution_count": 60,
   "id": "4c92fd82-9e55-4172-850f-f7de774900f5",
   "metadata": {},
   "outputs": [],
   "source": [
    "def displayStu (name,age,city):\n",
    "    \"\"\"this function is used to display tge neame, age, city of the student\"\"\"\n",
    "    print(\"Name=\",name)\n",
    "    print(\"Age=\",age)\n",
    "    print(\"City=\",city)"
   ]
  },
  {
   "cell_type": "code",
   "execution_count": 61,
   "id": "08b3d682-5ea4-4478-9351-176d111f6c77",
   "metadata": {},
   "outputs": [
    {
     "name": "stdout",
     "output_type": "stream",
     "text": [
      "Name= Kovarthana\n",
      "Age= 20\n",
      "City= Bengaluru\n"
     ]
    }
   ],
   "source": [
    "displayStu(\"Kovarthana\",20,\"Bengaluru\")"
   ]
  },
  {
   "cell_type": "code",
   "execution_count": 62,
   "id": "a57b41de-de63-4b31-9ace-73aad1c8415d",
   "metadata": {},
   "outputs": [
    {
     "name": "stdout",
     "output_type": "stream",
     "text": [
      "Help on function displayStu in module __main__:\n",
      "\n",
      "displayStu(name, age, city)\n",
      "    this function is used to display tge neame, age, city of the student\n",
      "\n"
     ]
    }
   ],
   "source": [
    "help(displayStu)"
   ]
  },
  {
   "cell_type": "code",
   "execution_count": 63,
   "id": "cc35df7f-58ff-43d7-8d8e-3dfcb2f612fa",
   "metadata": {},
   "outputs": [
    {
     "data": {
      "text/plain": [
       "'this function is used to display tge neame, age, city of the student'"
      ]
     },
     "execution_count": 63,
     "metadata": {},
     "output_type": "execute_result"
    }
   ],
   "source": [
    "displayStu.__doc__"
   ]
  },
  {
   "cell_type": "code",
   "execution_count": 66,
   "id": "5d0f727d-fd64-4879-8eca-7947f0719861",
   "metadata": {},
   "outputs": [],
   "source": [
    "def displayStudent (name,roll,city):\n",
    "   \n",
    "    print(\"Name=\",name)\n",
    "    print(\"Roll=\",roll)\n",
    "    print(\"City=\",city)"
   ]
  },
  {
   "cell_type": "code",
   "execution_count": 67,
   "id": "1c8b63c5-fde1-4314-b350-bd0090ae4b53",
   "metadata": {},
   "outputs": [
    {
     "name": "stdout",
     "output_type": "stream",
     "text": [
      "Name= Kov\n",
      "Roll= 23\n",
      "City= blr\n"
     ]
    }
   ],
   "source": [
    "displayStudent(\"Kov\",23,\"blr\")#positional arguments"
   ]
  },
  {
   "cell_type": "code",
   "execution_count": 69,
   "id": "624127d8-4835-49c3-8b00-df50df43711c",
   "metadata": {},
   "outputs": [
    {
     "name": "stdout",
     "output_type": "stream",
     "text": [
      "Name= Kov\n",
      "Roll= 22\n",
      "City= blr\n"
     ]
    }
   ],
   "source": [
    "displayStudent(name=\"Kov\",city=\"blr\",roll=22)#keyword arguments"
   ]
  },
  {
   "cell_type": "markdown",
   "id": "81edcec4-458c-414c-b967-c4478256db5d",
   "metadata": {},
   "source": [
    "## Argument with default value"
   ]
  },
  {
   "cell_type": "code",
   "execution_count": 70,
   "id": "314388ba-eae9-4f1e-babf-17c5dfd57a12",
   "metadata": {},
   "outputs": [],
   "source": [
    "def addmynum(x,y):\n",
    "    print(\"Sum=\",(x+y))"
   ]
  },
  {
   "cell_type": "code",
   "execution_count": 71,
   "id": "19077300-7844-48b6-9737-9893c56d0bec",
   "metadata": {},
   "outputs": [
    {
     "name": "stdout",
     "output_type": "stream",
     "text": [
      "Sum= 79\n"
     ]
    }
   ],
   "source": [
    "addmynum(12,67)"
   ]
  },
  {
   "cell_type": "code",
   "execution_count": 74,
   "id": "05dffec2-1947-40f6-ba72-bf8899e301c5",
   "metadata": {},
   "outputs": [],
   "source": [
    "def Addmynum(x,y,z):\n",
    "    sum=(x+y)*z\n",
    "    print(\"Expression=\",sum)"
   ]
  },
  {
   "cell_type": "code",
   "execution_count": 75,
   "id": "098aad19-e510-4717-8c8c-03b955466e66",
   "metadata": {},
   "outputs": [
    {
     "name": "stdout",
     "output_type": "stream",
     "text": [
      "Expression= 9\n"
     ]
    }
   ],
   "source": [
    "Addmynum(1,2,3)"
   ]
  },
  {
   "cell_type": "code",
   "execution_count": 78,
   "id": "fdd55c4f-e688-4acf-ab53-0253c3452225",
   "metadata": {},
   "outputs": [],
   "source": [
    "def Addmynum(x,y,z=6):#default arguments\n",
    "    sum=(x+y)*z\n",
    "    print(\"Expression=\",sum)"
   ]
  },
  {
   "cell_type": "code",
   "execution_count": 79,
   "id": "11d37efa-34d3-442e-8286-4a15e4501437",
   "metadata": {},
   "outputs": [
    {
     "name": "stdout",
     "output_type": "stream",
     "text": [
      "Expression= 2076\n"
     ]
    }
   ],
   "source": [
    "Addmynum(1,345)"
   ]
  },
  {
   "cell_type": "code",
   "execution_count": 81,
   "id": "19d3d708-b5e4-4c0a-8e5e-f14fecc8d40f",
   "metadata": {},
   "outputs": [],
   "source": [
    "def getdata (name,age,city):#args\n",
    "   \n",
    "    print(\"Name=\",name)\n",
    "    print(\"Age=\",age)\n",
    "    print(\"City=\",city)"
   ]
  },
  {
   "cell_type": "code",
   "execution_count": 82,
   "id": "8c45806e-87c2-4894-a426-9a524430eb6a",
   "metadata": {},
   "outputs": [
    {
     "name": "stdout",
     "output_type": "stream",
     "text": [
      "Name= Kovarthana\n",
      "Age= 20\n",
      "City= Bengaluru\n"
     ]
    }
   ],
   "source": [
    "getdata(\"Kovarthana\",20,\"Bengaluru\")"
   ]
  },
  {
   "cell_type": "code",
   "execution_count": 83,
   "id": "45882bc3-310b-49da-871c-a89eb6990c04",
   "metadata": {},
   "outputs": [],
   "source": [
    "def getdata (name,age,city=\"Blr\"):#kwargs\n",
    "   \n",
    "    print(\"Name=\",name)\n",
    "    print(\"Age=\",age)\n",
    "    print(\"City=\",city)"
   ]
  },
  {
   "cell_type": "code",
   "execution_count": 84,
   "id": "1e51daac-a329-487d-93ae-d31ea5fdee9d",
   "metadata": {},
   "outputs": [
    {
     "name": "stdout",
     "output_type": "stream",
     "text": [
      "Name= Kovarthana\n",
      "Age= 20\n",
      "City= Blr\n"
     ]
    }
   ],
   "source": [
    "getdata(\"Kovarthana\",20)"
   ]
  },
  {
   "cell_type": "code",
   "execution_count": 85,
   "id": "4454808e-852e-4923-8ad3-7937e134a7b6",
   "metadata": {},
   "outputs": [
    {
     "name": "stdout",
     "output_type": "stream",
     "text": [
      "Name= Kovarthana\n",
      "Age= 20\n",
      "City= chennai\n"
     ]
    }
   ],
   "source": [
    "getdata(\"Kovarthana\",20,\"chennai\")"
   ]
  },
  {
   "cell_type": "code",
   "execution_count": 86,
   "id": "912aa5e7-22b5-4ec7-926b-2b4994726023",
   "metadata": {},
   "outputs": [],
   "source": [
    "def getvalues(x,*args):\n",
    "    print(\"x=\",x)\n",
    "    print(\"others=\",args)"
   ]
  },
  {
   "cell_type": "code",
   "execution_count": 87,
   "id": "9a1036dc-3bdd-4ad8-8139-e0e0e724da73",
   "metadata": {},
   "outputs": [
    {
     "name": "stdout",
     "output_type": "stream",
     "text": [
      "x= 2\n",
      "others= (3, 5, 5, 2, 4, 6, 7, 8, 3, 2)\n"
     ]
    }
   ],
   "source": [
    "getvalues(2,3,5,5,2,4,6,7,8,3,2)"
   ]
  },
  {
   "cell_type": "code",
   "execution_count": 88,
   "id": "f647d99e-cd93-4ce3-9456-fe18879f486c",
   "metadata": {},
   "outputs": [],
   "source": [
    "def getdata(name,*args):\n",
    "    print(name)\n",
    "    print(args)"
   ]
  },
  {
   "cell_type": "code",
   "execution_count": 89,
   "id": "d6d3df1f-b6c8-423b-8129-81bb895c9605",
   "metadata": {},
   "outputs": [
    {
     "name": "stdout",
     "output_type": "stream",
     "text": [
      "Kovarthana\n",
      "(20, 'bengaluru', 'salem', 'Karnataka', 502107)\n"
     ]
    }
   ],
   "source": [
    "getdata(\"Kovarthana\",20,\"bengaluru\",\"salem\",\"Karnataka\",502107)"
   ]
  },
  {
   "cell_type": "code",
   "execution_count": 90,
   "id": "ce703cb3-36ab-4364-9880-0c68da6ea3fc",
   "metadata": {},
   "outputs": [],
   "source": [
    "def getarithmetic(x,*y):\n",
    "    res=x*sum(y)\n",
    "    print(\"Result=\",res)\n",
    "    print(type(x))\n",
    "    print(type(y))"
   ]
  },
  {
   "cell_type": "code",
   "execution_count": 91,
   "id": "791280be-5d1d-457c-bf8a-2992a6f44574",
   "metadata": {},
   "outputs": [
    {
     "name": "stdout",
     "output_type": "stream",
     "text": [
      "Result= 1104\n",
      "<class 'int'>\n",
      "<class 'tuple'>\n"
     ]
    }
   ],
   "source": [
    "getarithmetic(3,343,5,2,2,4,5,7)"
   ]
  },
  {
   "cell_type": "code",
   "execution_count": 92,
   "id": "c85d4af7-3c14-4ee1-bd97-2e282d962f69",
   "metadata": {},
   "outputs": [],
   "source": [
    "# variable length kwargs\n",
    "def multiply(x,*y):\n",
    "    print(x)\n",
    "    print(y)"
   ]
  },
  {
   "cell_type": "code",
   "execution_count": 93,
   "id": "f1ff3ec2-012a-42b8-b689-8df88b2bef33",
   "metadata": {},
   "outputs": [
    {
     "name": "stdout",
     "output_type": "stream",
     "text": [
      "3\n",
      "(4, 5, 5, 32)\n"
     ]
    }
   ],
   "source": [
    "multiply(3,4,5,5,32)"
   ]
  },
  {
   "cell_type": "code",
   "execution_count": 96,
   "id": "5d67d2dd-d275-49c3-ac3c-561d5292810a",
   "metadata": {},
   "outputs": [],
   "source": [
    "def multiply(*x):\n",
    "    for i in x:\n",
    "        print(i)"
   ]
  },
  {
   "cell_type": "code",
   "execution_count": 97,
   "id": "102751b5-8b61-4ceb-8ce9-93cb114e9e8f",
   "metadata": {},
   "outputs": [
    {
     "name": "stdout",
     "output_type": "stream",
     "text": [
      "3\n",
      "4\n",
      "5\n",
      "5\n",
      "32\n"
     ]
    }
   ],
   "source": [
    "multiply(3,4,5,5,32)"
   ]
  },
  {
   "cell_type": "code",
   "execution_count": 100,
   "id": "14f349bc-e053-4bab-8866-233c58860b7d",
   "metadata": {},
   "outputs": [],
   "source": [
    "def multiply(*x):\n",
    "    prod=1\n",
    "    for i in x:\n",
    "        prod=prod*i\n",
    "    print(\"Result=\",prod)"
   ]
  },
  {
   "cell_type": "code",
   "execution_count": 101,
   "id": "de2d8014-776f-4725-b7fe-e5ef4694e8fb",
   "metadata": {},
   "outputs": [
    {
     "name": "stdout",
     "output_type": "stream",
     "text": [
      "Result= 9600\n"
     ]
    }
   ],
   "source": [
    "multiply(3,4,5,5,32)"
   ]
  },
  {
   "cell_type": "code",
   "execution_count": 105,
   "id": "1080128b-c4fa-47b7-ab82-1885a06846e1",
   "metadata": {},
   "outputs": [],
   "source": [
    "def getdata(**kwargs):\n",
    "    print(kwargs)\n",
    "    print(type(kwargs))"
   ]
  },
  {
   "cell_type": "code",
   "execution_count": 106,
   "id": "2a3c8d9c-2e63-412f-aa6c-c15d6d4672f4",
   "metadata": {},
   "outputs": [
    {
     "name": "stdout",
     "output_type": "stream",
     "text": [
      "{'name': 'KOV', 'age': 20, 'city': 'bengaluru', 'native': 'salem'}\n",
      "<class 'dict'>\n"
     ]
    }
   ],
   "source": [
    "getdata(name=\"KOV\",age=20,city=\"bengaluru\",native=\"salem\")"
   ]
  },
  {
   "cell_type": "code",
   "execution_count": 110,
   "id": "925d1fbf-13ba-43fe-a27a-52000007a234",
   "metadata": {},
   "outputs": [],
   "source": [
    "def mydata(**kwargs):\n",
    "    for key,value in kwargs.items():\n",
    "        print(key,value)"
   ]
  },
  {
   "cell_type": "code",
   "execution_count": 111,
   "id": "4d75a3df-abd3-4abd-87e8-194b61a1b3b7",
   "metadata": {},
   "outputs": [
    {
     "name": "stdout",
     "output_type": "stream",
     "text": [
      "name KOV\n",
      "age 20\n",
      "city bengaluru\n",
      "native salem\n"
     ]
    }
   ],
   "source": [
    "mydata(name=\"KOV\",age=20,city=\"bengaluru\",native=\"salem\")"
   ]
  },
  {
   "cell_type": "markdown",
   "id": "e3dc7be7-4335-4a48-83cb-29ca87fcf6f0",
   "metadata": {},
   "source": [
    "## varaiable length key word"
   ]
  },
  {
   "cell_type": "code",
   "execution_count": 112,
   "id": "7a31156d-6acf-4b50-84b8-83b34aea87db",
   "metadata": {},
   "outputs": [],
   "source": [
    "def data(x,y,z):\n",
    "    return x,y,z"
   ]
  },
  {
   "cell_type": "code",
   "execution_count": 120,
   "id": "bccb7116-b90b-4590-8e1c-1ebe4f5ddb4e",
   "metadata": {},
   "outputs": [],
   "source": [
    "frits={\"apple\",\"banana\",\"kiwi\"}"
   ]
  },
  {
   "cell_type": "code",
   "execution_count": 121,
   "id": "193779f9-687a-4464-9eb1-606b2b31e0ea",
   "metadata": {},
   "outputs": [
    {
     "data": {
      "text/plain": [
       "set"
      ]
     },
     "execution_count": 121,
     "metadata": {},
     "output_type": "execute_result"
    }
   ],
   "source": [
    "type(frits)"
   ]
  },
  {
   "cell_type": "code",
   "execution_count": 125,
   "id": "ee30635b-4f05-429b-9654-2186604217a8",
   "metadata": {},
   "outputs": [],
   "source": [
    "mydata={\"Name\":\"Kov\",\"Age\":22}"
   ]
  },
  {
   "cell_type": "code",
   "execution_count": 129,
   "id": "c934d075-3377-442b-b668-1dc188d89803",
   "metadata": {},
   "outputs": [],
   "source": [
    "def getdata(**kwargs):\n",
    "    for i,j in kwargs.items():    \n",
    "        print(i,j)\n",
    "    print(type(kwargs))"
   ]
  },
  {
   "cell_type": "code",
   "execution_count": 130,
   "id": "f6ee4a1b-b8c5-4584-b251-c6879df25b47",
   "metadata": {},
   "outputs": [
    {
     "name": "stdout",
     "output_type": "stream",
     "text": [
      "Name Kov\n",
      "Age 22\n",
      "<class 'dict'>\n"
     ]
    }
   ],
   "source": [
    "getdata(**mydata)"
   ]
  },
  {
   "cell_type": "markdown",
   "id": "a73a02af-3718-4b28-a03c-722eae19bf0e",
   "metadata": {},
   "source": [
    "## Return stmt"
   ]
  },
  {
   "cell_type": "code",
   "execution_count": 131,
   "id": "43f230d7-36f4-4db4-bc7d-92f492f7f682",
   "metadata": {},
   "outputs": [],
   "source": [
    "def function():\n",
    "    return \"wertyhui\""
   ]
  },
  {
   "cell_type": "code",
   "execution_count": 132,
   "id": "132d98df-cbcd-47ae-81bb-d8a4d7987341",
   "metadata": {},
   "outputs": [
    {
     "data": {
      "text/plain": [
       "'wertyhui'"
      ]
     },
     "execution_count": 132,
     "metadata": {},
     "output_type": "execute_result"
    }
   ],
   "source": [
    "function()"
   ]
  },
  {
   "cell_type": "code",
   "execution_count": 133,
   "id": "3d5aad4f-fd83-4b12-9e5e-606916bcbb73",
   "metadata": {},
   "outputs": [],
   "source": [
    "def dataret():\n",
    "    return 100"
   ]
  },
  {
   "cell_type": "code",
   "execution_count": 134,
   "id": "f4310b52-1e45-4287-872b-c9d6ceb47a40",
   "metadata": {},
   "outputs": [
    {
     "data": {
      "text/plain": [
       "10000"
      ]
     },
     "execution_count": 134,
     "metadata": {},
     "output_type": "execute_result"
    }
   ],
   "source": [
    "dataret() *100"
   ]
  },
  {
   "cell_type": "code",
   "execution_count": 136,
   "id": "dc914833-aa1e-4ab2-bacd-8e2c568947a8",
   "metadata": {},
   "outputs": [],
   "source": [
    "def returnd(x,y,z):\n",
    "    print (x+y+z)"
   ]
  },
  {
   "cell_type": "code",
   "execution_count": 137,
   "id": "00b6cfdb-9a26-4662-8386-7b5025b9ff4a",
   "metadata": {},
   "outputs": [
    {
     "name": "stdout",
     "output_type": "stream",
     "text": [
      "77\n"
     ]
    }
   ],
   "source": [
    "returnd(1,44,32)"
   ]
  },
  {
   "cell_type": "code",
   "execution_count": 139,
   "id": "5ecfea94-fec8-4d8d-8aff-e05487fce8ae",
   "metadata": {},
   "outputs": [],
   "source": [
    "def getdata (name,age):\n",
    "   \n",
    "    return name\n",
    "    return age\n"
   ]
  },
  {
   "cell_type": "code",
   "execution_count": 140,
   "id": "c4bae7fe-b76f-409a-a719-78dec8668959",
   "metadata": {},
   "outputs": [
    {
     "data": {
      "text/plain": [
       "'gh'"
      ]
     },
     "execution_count": 140,
     "metadata": {},
     "output_type": "execute_result"
    }
   ],
   "source": [
    "getdata(\"gh\",78)"
   ]
  },
  {
   "cell_type": "code",
   "execution_count": 143,
   "id": "789449ad-f66f-429a-8b62-5a87cfef7359",
   "metadata": {},
   "outputs": [],
   "source": [
    "def getdata (name,age):\n",
    "   \n",
    "    return name,age\n",
    "     "
   ]
  },
  {
   "cell_type": "code",
   "execution_count": 144,
   "id": "2fce7e82-3e65-422f-8bce-ff3ca5459681",
   "metadata": {},
   "outputs": [
    {
     "data": {
      "text/plain": [
       "('gh', 78)"
      ]
     },
     "execution_count": 144,
     "metadata": {},
     "output_type": "execute_result"
    }
   ],
   "source": [
    "getdata(\"gh\",78)"
   ]
  },
  {
   "cell_type": "markdown",
   "id": "b8164bfa-7644-484f-a418-ce896b972ac5",
   "metadata": {},
   "source": [
    "## return stmt as list & dict"
   ]
  },
  {
   "cell_type": "code",
   "execution_count": 149,
   "id": "316a9261-540e-4eba-8349-d906d3953f84",
   "metadata": {},
   "outputs": [],
   "source": [
    "def getvalues(*y):\n",
    "    return sum(y)/len(y)"
   ]
  },
  {
   "cell_type": "code",
   "execution_count": 150,
   "id": "232dadf9-516d-42e2-825c-02394f4655ce",
   "metadata": {},
   "outputs": [
    {
     "data": {
      "text/plain": [
       "3.909090909090909"
      ]
     },
     "execution_count": 150,
     "metadata": {},
     "output_type": "execute_result"
    }
   ],
   "source": [
    "getvalues(2,2,4,5,3,2,5,6,6,5,3)"
   ]
  },
  {
   "cell_type": "code",
   "execution_count": 151,
   "id": "1037ee9e-2e0a-4ec3-b3c9-9475ee5f3bb4",
   "metadata": {},
   "outputs": [],
   "source": [
    "def getvalues(*args):\n",
    "    return sum(args)/len(args)"
   ]
  },
  {
   "cell_type": "code",
   "execution_count": 152,
   "id": "a575f796-6844-422f-b24e-0b55ae213a86",
   "metadata": {},
   "outputs": [],
   "source": [
    "values=[i for i in range(10)]"
   ]
  },
  {
   "cell_type": "code",
   "execution_count": 153,
   "id": "433732f8-0f5f-4042-8f11-6247bcdacea8",
   "metadata": {},
   "outputs": [
    {
     "data": {
      "text/plain": [
       "[0, 1, 2, 3, 4, 5, 6, 7, 8, 9]"
      ]
     },
     "execution_count": 153,
     "metadata": {},
     "output_type": "execute_result"
    }
   ],
   "source": [
    "values"
   ]
  },
  {
   "cell_type": "code",
   "execution_count": 154,
   "id": "ad5196f6-791f-4e6d-83e8-47ec78999c08",
   "metadata": {},
   "outputs": [
    {
     "data": {
      "text/plain": [
       "4.5"
      ]
     },
     "execution_count": 154,
     "metadata": {},
     "output_type": "execute_result"
    }
   ],
   "source": [
    "getvalues(*values)"
   ]
  },
  {
   "cell_type": "code",
   "execution_count": 157,
   "id": "4ce78491-7880-4ad6-a11a-23301d4985ef",
   "metadata": {},
   "outputs": [],
   "source": [
    "def retmyobj(x):\n",
    "    value=list()\n",
    "    for i in range(x):\n",
    "        value.append(i)\n",
    "    return value"
   ]
  },
  {
   "cell_type": "code",
   "execution_count": 158,
   "id": "b18ca8de-673b-44a0-b766-01a9a63c65b2",
   "metadata": {},
   "outputs": [
    {
     "data": {
      "text/plain": [
       "[0, 1, 2, 3, 4, 5, 6, 7, 8, 9]"
      ]
     },
     "execution_count": 158,
     "metadata": {},
     "output_type": "execute_result"
    }
   ],
   "source": [
    "retmyobj(10)"
   ]
  },
  {
   "cell_type": "code",
   "execution_count": 159,
   "id": "fdf4f172-ab13-482e-ab9c-b73dde06860b",
   "metadata": {},
   "outputs": [],
   "source": [
    "def retdict(**kwargs):\n",
    "    print(type(kwaargs))"
   ]
  },
  {
   "cell_type": "code",
   "execution_count": 161,
   "id": "8db99993-76d4-49b2-ab26-34ec1a7afbd0",
   "metadata": {},
   "outputs": [
    {
     "ename": "NameError",
     "evalue": "name 'kwaargs' is not defined",
     "output_type": "error",
     "traceback": [
      "\u001b[31m---------------------------------------------------------------------------\u001b[39m",
      "\u001b[31mNameError\u001b[39m                                 Traceback (most recent call last)",
      "\u001b[36mCell\u001b[39m\u001b[36m \u001b[39m\u001b[32mIn[161]\u001b[39m\u001b[32m, line 1\u001b[39m\n\u001b[32m----> \u001b[39m\u001b[32m1\u001b[39m \u001b[43mretdict\u001b[49m\u001b[43m(\u001b[49m\u001b[43mname\u001b[49m\u001b[43m=\u001b[49m\u001b[33;43m\"\u001b[39;49m\u001b[33;43mvbn\u001b[39;49m\u001b[33;43m\"\u001b[39;49m\u001b[43m,\u001b[49m\u001b[43mage\u001b[49m\u001b[43m=\u001b[49m\u001b[32;43m2\u001b[39;49m\u001b[43m)\u001b[49m\n",
      "\u001b[36mCell\u001b[39m\u001b[36m \u001b[39m\u001b[32mIn[159]\u001b[39m\u001b[32m, line 2\u001b[39m, in \u001b[36mretdict\u001b[39m\u001b[34m(**kwargs)\u001b[39m\n\u001b[32m      1\u001b[39m \u001b[38;5;28;01mdef\u001b[39;00m\u001b[38;5;250m \u001b[39m\u001b[34mretdict\u001b[39m(**kwargs):\n\u001b[32m----> \u001b[39m\u001b[32m2\u001b[39m     \u001b[38;5;28mprint\u001b[39m(\u001b[38;5;28mtype\u001b[39m(\u001b[43mkwaargs\u001b[49m))\n",
      "\u001b[31mNameError\u001b[39m: name 'kwaargs' is not defined"
     ]
    }
   ],
   "source": [
    "retdict(name=\"vbn\",age=2)"
   ]
  },
  {
   "cell_type": "code",
   "execution_count": 166,
   "id": "fc137227-5cba-4aac-ab40-f006a6a0f843",
   "metadata": {},
   "outputs": [],
   "source": [
    "def retdict(**kwargs):\n",
    "    return(kwargs)"
   ]
  },
  {
   "cell_type": "code",
   "execution_count": 167,
   "id": "94be0dc9-3fd6-4750-8aea-9990cd822b36",
   "metadata": {},
   "outputs": [
    {
     "data": {
      "text/plain": [
       "{'name': 'qwerty', 'age': 1}"
      ]
     },
     "execution_count": 167,
     "metadata": {},
     "output_type": "execute_result"
    }
   ],
   "source": [
    "retdict(name=\"qwerty\",age=1)"
   ]
  },
  {
   "cell_type": "code",
   "execution_count": null,
   "id": "5d078650-ce6f-42ea-867a-4e9f8f1fb4c1",
   "metadata": {},
   "outputs": [],
   "source": []
  }
 ],
 "metadata": {
  "kernelspec": {
   "display_name": "Python 3 (ipykernel)",
   "language": "python",
   "name": "python3"
  },
  "language_info": {
   "codemirror_mode": {
    "name": "ipython",
    "version": 3
   },
   "file_extension": ".py",
   "mimetype": "text/x-python",
   "name": "python",
   "nbconvert_exporter": "python",
   "pygments_lexer": "ipython3",
   "version": "3.13.2"
  }
 },
 "nbformat": 4,
 "nbformat_minor": 5
}
