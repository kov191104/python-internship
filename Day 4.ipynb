{
 "cells": [
  {
   "cell_type": "markdown",
   "id": "481ea3bc-3b72-4489-8615-1be42db743dc",
   "metadata": {},
   "source": [
    "# DAY 4 python"
   ]
  },
  {
   "cell_type": "markdown",
   "id": "0dc05f91-e469-482d-a0de-fce0541900ac",
   "metadata": {},
   "source": [
    "## File operation 2"
   ]
  },
  {
   "cell_type": "code",
   "execution_count": 1,
   "id": "c0334daa-34d7-482a-a7af-a5ab9da0749f",
   "metadata": {},
   "outputs": [],
   "source": [
    "x=open(\"sample.txt\")"
   ]
  },
  {
   "cell_type": "code",
   "execution_count": 2,
   "id": "b9065e83-337a-4ff9-8db4-e4e3b30a0ab0",
   "metadata": {},
   "outputs": [
    {
     "data": {
      "text/plain": [
       "'sample.txt'"
      ]
     },
     "execution_count": 2,
     "metadata": {},
     "output_type": "execute_result"
    }
   ],
   "source": [
    "x.name"
   ]
  },
  {
   "cell_type": "code",
   "execution_count": 3,
   "id": "4d947207-6263-4748-9d42-add0a72a8465",
   "metadata": {},
   "outputs": [
    {
     "data": {
      "text/plain": [
       "'r'"
      ]
     },
     "execution_count": 3,
     "metadata": {},
     "output_type": "execute_result"
    }
   ],
   "source": [
    "x.mode"
   ]
  },
  {
   "cell_type": "code",
   "execution_count": 4,
   "id": "6f11958c-571d-41ce-91cb-5a5114224b28",
   "metadata": {},
   "outputs": [
    {
     "data": {
      "text/plain": [
       "'w'"
      ]
     },
     "execution_count": 4,
     "metadata": {},
     "output_type": "execute_result"
    }
   ],
   "source": [
    "x=open(\"sample.txt\",\"w\")\n",
    "x.mode"
   ]
  },
  {
   "cell_type": "code",
   "execution_count": 5,
   "id": "17eca513-a28b-4ec3-92aa-149a8b892349",
   "metadata": {},
   "outputs": [
    {
     "data": {
      "text/plain": [
       "False"
      ]
     },
     "execution_count": 5,
     "metadata": {},
     "output_type": "execute_result"
    }
   ],
   "source": [
    "x.closed"
   ]
  },
  {
   "cell_type": "code",
   "execution_count": 6,
   "id": "93005659-8f64-40bc-8668-31060350e223",
   "metadata": {},
   "outputs": [
    {
     "data": {
      "text/plain": [
       "''"
      ]
     },
     "execution_count": 6,
     "metadata": {},
     "output_type": "execute_result"
    }
   ],
   "source": [
    "x=open(\"sample.txt\")\n",
    "x.read()"
   ]
  },
  {
   "cell_type": "code",
   "execution_count": 7,
   "id": "39c3165e-4314-4d01-bcb3-fe9191105027",
   "metadata": {},
   "outputs": [
    {
     "data": {
      "text/plain": [
       "27"
      ]
     },
     "execution_count": 7,
     "metadata": {},
     "output_type": "execute_result"
    }
   ],
   "source": [
    "x=open(\"sample.txt\",\"w\")\n",
    "x.write(\"Heloo , python programming!\")"
   ]
  },
  {
   "cell_type": "code",
   "execution_count": 8,
   "id": "b490e965-aafe-40aa-841a-f69f785ff3f2",
   "metadata": {},
   "outputs": [],
   "source": [
    "x.close()"
   ]
  },
  {
   "cell_type": "markdown",
   "id": "bafef847-9aaa-43d7-8469-0f598cec0fe7",
   "metadata": {},
   "source": [
    "## With Open operation"
   ]
  },
  {
   "cell_type": "code",
   "execution_count": 9,
   "id": "4fef1517-0c5e-4326-a675-220541f34917",
   "metadata": {},
   "outputs": [
    {
     "name": "stdout",
     "output_type": "stream",
     "text": [
      "20\n"
     ]
    }
   ],
   "source": [
    "with open(\"sample.txt\",\"w\") as fp:\n",
    "    print(fp.write(\"Python Python Python\"))"
   ]
  },
  {
   "cell_type": "code",
   "execution_count": 10,
   "id": "2177c6c8-3704-4e3d-b15e-3d5ad6f84cfb",
   "metadata": {},
   "outputs": [
    {
     "data": {
      "text/plain": [
       "'sample.txt'"
      ]
     },
     "execution_count": 10,
     "metadata": {},
     "output_type": "execute_result"
    }
   ],
   "source": [
    "fp.name"
   ]
  },
  {
   "cell_type": "code",
   "execution_count": 11,
   "id": "c448e535-2c52-49f3-8db2-230274e913c8",
   "metadata": {},
   "outputs": [
    {
     "data": {
      "text/plain": [
       "'w'"
      ]
     },
     "execution_count": 11,
     "metadata": {},
     "output_type": "execute_result"
    }
   ],
   "source": [
    "fp.mode"
   ]
  },
  {
   "cell_type": "code",
   "execution_count": 12,
   "id": "f9ff34c8-f8cd-4a3c-86b8-ac47fd414db2",
   "metadata": {},
   "outputs": [
    {
     "data": {
      "text/plain": [
       "True"
      ]
     },
     "execution_count": 12,
     "metadata": {},
     "output_type": "execute_result"
    }
   ],
   "source": [
    "fp.closed"
   ]
  },
  {
   "cell_type": "code",
   "execution_count": 13,
   "id": "c4a35995-a871-4e84-a337-4abcc6904bc0",
   "metadata": {},
   "outputs": [
    {
     "name": "stdout",
     "output_type": "stream",
     "text": [
      "Python Python Python\n"
     ]
    }
   ],
   "source": [
    "with open(\"sample.txt\",\"r\") as x:\n",
    "    print(x.read())"
   ]
  },
  {
   "cell_type": "code",
   "execution_count": 14,
   "id": "e43bb3bc-d017-42e3-ab9b-89e91c79f797",
   "metadata": {},
   "outputs": [],
   "source": [
    "with open(\"sample.txt\",\"w\") as x:\n",
    "    x.write(\"Data Scientist\") #over-writes"
   ]
  },
  {
   "cell_type": "code",
   "execution_count": 15,
   "id": "6a6a40c5-7faa-4d2d-b573-0b32e4108973",
   "metadata": {},
   "outputs": [
    {
     "name": "stdout",
     "output_type": "stream",
     "text": [
      "Data Scientist\n"
     ]
    }
   ],
   "source": [
    "with open(\"sample.txt\",\"r\") as x:\n",
    "    print(x.read())"
   ]
  },
  {
   "cell_type": "code",
   "execution_count": 16,
   "id": "25cd140f-39eb-48df-b323-5e954f4c222d",
   "metadata": {},
   "outputs": [],
   "source": [
    "with open(\"sample.txt\",\"a\") as x:\n",
    "    x.write(\" enthusiast\") #appends"
   ]
  },
  {
   "cell_type": "code",
   "execution_count": 17,
   "id": "8a7b705e-e09a-4f4f-83b4-a0a47834b313",
   "metadata": {},
   "outputs": [
    {
     "name": "stdout",
     "output_type": "stream",
     "text": [
      "Data Scientist enthusiast\n"
     ]
    }
   ],
   "source": [
    "with open(\"sample.txt\",\"r\") as x:\n",
    "    print(x.read())"
   ]
  },
  {
   "cell_type": "markdown",
   "id": "7c186c1e-2a00-403d-8a8c-e15efc0736bb",
   "metadata": {},
   "source": [
    "# r+,w+"
   ]
  },
  {
   "cell_type": "code",
   "execution_count": 18,
   "id": "019a7408-aae4-4fd9-8ee8-54caaa7302c1",
   "metadata": {},
   "outputs": [
    {
     "name": "stdout",
     "output_type": "stream",
     "text": [
      "Data Scientist enthusiast\n"
     ]
    }
   ],
   "source": [
    "with open(\"sample.txt\",\"r+\") as x:\n",
    "    print(x.read())#open if exist"
   ]
  },
  {
   "cell_type": "code",
   "execution_count": 19,
   "id": "df3fbbd7-b9bd-4396-a006-2b3249bcc70a",
   "metadata": {},
   "outputs": [],
   "source": [
    "with open(\"sample.txt\",\"w+\") as x:\n",
    "    x.write(\"Python is versatile\") #open and old delete content"
   ]
  },
  {
   "cell_type": "markdown",
   "id": "c5d8a7c2-578f-4f76-8627-cd74576f2e49",
   "metadata": {},
   "source": [
    "## Indexing and listing"
   ]
  },
  {
   "cell_type": "code",
   "execution_count": 38,
   "id": "df23cd15-db26-4f02-834a-190a34ad0838",
   "metadata": {},
   "outputs": [],
   "source": [
    "fruits=[\"mango\",\"guava\",\"Banana\"]"
   ]
  },
  {
   "cell_type": "code",
   "execution_count": 39,
   "id": "9e7fab81-a4cd-4cb2-a553-bd60d6045ad3",
   "metadata": {},
   "outputs": [
    {
     "data": {
      "text/plain": [
       "2"
      ]
     },
     "execution_count": 39,
     "metadata": {},
     "output_type": "execute_result"
    }
   ],
   "source": [
    "fruits.index(\"Banana\")"
   ]
  },
  {
   "cell_type": "code",
   "execution_count": 40,
   "id": "94aeaa58-0f4a-49ea-9cb5-026a81041b3d",
   "metadata": {},
   "outputs": [
    {
     "data": {
      "text/plain": [
       "'Banana'"
      ]
     },
     "execution_count": 40,
     "metadata": {},
     "output_type": "execute_result"
    }
   ],
   "source": [
    "fruits[2]"
   ]
  },
  {
   "cell_type": "code",
   "execution_count": 41,
   "id": "58117ffb-aa7a-490c-9f2b-239c343ab9ae",
   "metadata": {},
   "outputs": [
    {
     "data": {
      "text/plain": [
       "'guava'"
      ]
     },
     "execution_count": 41,
     "metadata": {},
     "output_type": "execute_result"
    }
   ],
   "source": [
    "fruits[1]"
   ]
  },
  {
   "cell_type": "code",
   "execution_count": 42,
   "id": "9c6c9b7a-8030-4fa0-9c46-e669e7a4c2d2",
   "metadata": {},
   "outputs": [
    {
     "name": "stdout",
     "output_type": "stream",
     "text": [
      "mango\n",
      "guava\n",
      "Banana\n"
     ]
    }
   ],
   "source": [
    "for i in fruits:\n",
    "    print(i)"
   ]
  },
  {
   "cell_type": "code",
   "execution_count": 43,
   "id": "b418ac5a-f486-4187-b170-cd9376b7dd64",
   "metadata": {},
   "outputs": [],
   "source": [
    "x=[i for i in range(10)]"
   ]
  },
  {
   "cell_type": "code",
   "execution_count": 44,
   "id": "cfde8541-5b15-4fea-87d5-f8b18bf231b9",
   "metadata": {},
   "outputs": [
    {
     "data": {
      "text/plain": [
       "[0, 1, 2, 3, 4, 5, 6, 7, 8, 9]"
      ]
     },
     "execution_count": 44,
     "metadata": {},
     "output_type": "execute_result"
    }
   ],
   "source": [
    "x"
   ]
  },
  {
   "cell_type": "code",
   "execution_count": 45,
   "id": "a59c8bff-7e9e-434c-b968-b45ad2eb5fe0",
   "metadata": {},
   "outputs": [
    {
     "data": {
      "text/plain": [
       "0"
      ]
     },
     "execution_count": 45,
     "metadata": {},
     "output_type": "execute_result"
    }
   ],
   "source": [
    "x[0]"
   ]
  },
  {
   "cell_type": "code",
   "execution_count": 47,
   "id": "4cf1c8e0-3dce-496b-8728-29d0ca96e4bd",
   "metadata": {},
   "outputs": [
    {
     "data": {
      "text/plain": [
       "5"
      ]
     },
     "execution_count": 47,
     "metadata": {},
     "output_type": "execute_result"
    }
   ],
   "source": [
    "x[5]"
   ]
  }
 ],
 "metadata": {
  "kernelspec": {
   "display_name": "Python 3 (ipykernel)",
   "language": "python",
   "name": "python3"
  },
  "language_info": {
   "codemirror_mode": {
    "name": "ipython",
    "version": 3
   },
   "file_extension": ".py",
   "mimetype": "text/x-python",
   "name": "python",
   "nbconvert_exporter": "python",
   "pygments_lexer": "ipython3",
   "version": "3.13.2"
  }
 },
 "nbformat": 4,
 "nbformat_minor": 5
}
