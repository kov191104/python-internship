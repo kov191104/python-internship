{
 "cells": [
  {
   "cell_type": "markdown",
   "id": "bd8a9837-6775-4029-8aff-53f3405bb25a",
   "metadata": {},
   "source": [
    "# DAY-2 Python"
   ]
  },
  {
   "cell_type": "markdown",
   "id": "aff74670-9317-4482-8299-dbefb5dd0f4d",
   "metadata": {},
   "source": [
    "## Set Operation"
   ]
  },
  {
   "cell_type": "code",
   "execution_count": 1,
   "id": "d0fc5717-cf3a-4fb3-a16d-84ac8437e0f8",
   "metadata": {},
   "outputs": [],
   "source": [
    "x={\"Salem\",\"Erode\",\"Kovai\",\"Namakkal\"}\n",
    "y={\"Trichy\",\"Namakkal\",\"Karur\",\"Madurai\"}"
   ]
  },
  {
   "cell_type": "code",
   "execution_count": 3,
   "id": "e84e9fa4-bfed-427f-a6fb-bd7882fc2d72",
   "metadata": {},
   "outputs": [
    {
     "data": {
      "text/plain": [
       "{'Erode', 'Karur', 'Kovai', 'Madurai', 'Namakkal', 'Salem', 'Trichy'}"
      ]
     },
     "execution_count": 3,
     "metadata": {},
     "output_type": "execute_result"
    }
   ],
   "source": [
    "x.union(y) #Avoids duplication"
   ]
  },
  {
   "cell_type": "code",
   "execution_count": 4,
   "id": "45d37cea-38f8-4017-bc62-9444a415ef8f",
   "metadata": {},
   "outputs": [
    {
     "data": {
      "text/plain": [
       "{'Chennai',\n",
       " 'Erode',\n",
       " 'Kanchi',\n",
       " 'Karur',\n",
       " 'Kovai',\n",
       " 'Madurai',\n",
       " 'Namakkal',\n",
       " 'Salem',\n",
       " 'Trichy',\n",
       " 'Vellore',\n",
       " 'Villupuram'}"
      ]
     },
     "execution_count": 4,
     "metadata": {},
     "output_type": "execute_result"
    }
   ],
   "source": [
    "z={\"Chennai\",\"Kanchi\",\"Vellore\",\"Villupuram\"}\n",
    "x.union(y,z)"
   ]
  },
  {
   "cell_type": "code",
   "execution_count": 5,
   "id": "9500a780-69b4-4221-a5a2-17dc0be8bb3f",
   "metadata": {},
   "outputs": [
    {
     "data": {
      "text/plain": [
       "{'Chennai',\n",
       " 'Erode',\n",
       " 'Kanchi',\n",
       " 'Karur',\n",
       " 'Kovai',\n",
       " 'Madurai',\n",
       " 'Namakkal',\n",
       " 'Salem',\n",
       " 'Trichy',\n",
       " 'Vellore',\n",
       " 'Villupuram'}"
      ]
     },
     "execution_count": 5,
     "metadata": {},
     "output_type": "execute_result"
    }
   ],
   "source": [
    "a=x|y|z #union operator\n",
    "a"
   ]
  },
  {
   "cell_type": "markdown",
   "id": "503fc6c5-7bc5-4228-a59c-6e3154a5583c",
   "metadata": {},
   "source": [
    "## Python Scope"
   ]
  },
  {
   "cell_type": "code",
   "execution_count": 10,
   "id": "20cfb0bf-a44b-4806-bd1b-bb8f9abc3304",
   "metadata": {},
   "outputs": [],
   "source": [
    "def employedata():\n",
    "    ename=\"Mani\"\n",
    "    print(ename)\n",
    "\n",
    "    def getmanager():\n",
    "        print(\"Name of the manager\",ename)\n",
    "    getmanager()"
   ]
  },
  {
   "cell_type": "code",
   "execution_count": 11,
   "id": "8b426c27-72ad-406d-85b3-5f646a0721e4",
   "metadata": {},
   "outputs": [
    {
     "name": "stdout",
     "output_type": "stream",
     "text": [
      "Mani\n",
      "Name of the manager Mani\n"
     ]
    }
   ],
   "source": [
    "employedata()"
   ]
  },
  {
   "cell_type": "markdown",
   "id": "fb3cc2c8-e795-41f5-9991-6e4a4a486b24",
   "metadata": {},
   "source": [
    "## Python Class"
   ]
  },
  {
   "cell_type": "code",
   "execution_count": 12,
   "id": "d3ace78b-7d83-4c2e-8005-3f80e816e656",
   "metadata": {},
   "outputs": [],
   "source": [
    "class student():\n",
    "    def getStudent(self,name):\n",
    "        self.name=name\n",
    "        print(self.name)"
   ]
  },
  {
   "cell_type": "code",
   "execution_count": 13,
   "id": "b0692348-1f7a-440a-8265-505cc8beafd5",
   "metadata": {},
   "outputs": [
    {
     "name": "stdout",
     "output_type": "stream",
     "text": [
      "Kov\n"
     ]
    }
   ],
   "source": [
    "obj=student()\n",
    "obj.getStudent(\"Kov\")"
   ]
  },
  {
   "cell_type": "code",
   "execution_count": 14,
   "id": "79440e17-c209-4e74-b1b3-9e6306310743",
   "metadata": {},
   "outputs": [
    {
     "name": "stdout",
     "output_type": "stream",
     "text": [
      "Kovarthana\n"
     ]
    }
   ],
   "source": [
    "student.getStudent(obj,\"Kovarthana\")"
   ]
  },
  {
   "cell_type": "markdown",
   "id": "36167490-d7af-4a44-a259-18150f1c2618",
   "metadata": {},
   "source": [
    "## String"
   ]
  },
  {
   "cell_type": "code",
   "execution_count": 15,
   "id": "96799dfb-6561-46bb-9edb-7468a588e0ae",
   "metadata": {},
   "outputs": [
    {
     "data": {
      "text/plain": [
       "str"
      ]
     },
     "execution_count": 15,
     "metadata": {},
     "output_type": "execute_result"
    }
   ],
   "source": [
    "name=\"Apple\"\n",
    "type(name)"
   ]
  },
  {
   "cell_type": "code",
   "execution_count": 17,
   "id": "ccc50fee-b75b-45d8-b8b9-5772d2453979",
   "metadata": {},
   "outputs": [
    {
     "data": {
      "text/plain": [
       "str"
      ]
     },
     "execution_count": 17,
     "metadata": {},
     "output_type": "execute_result"
    }
   ],
   "source": [
    "n=\"1123**4567\"\n",
    "type(n)"
   ]
  },
  {
   "cell_type": "code",
   "execution_count": 19,
   "id": "a36b06e7-0cbd-412c-a65b-afd52a1f3e7b",
   "metadata": {},
   "outputs": [
    {
     "name": "stdout",
     "output_type": "stream",
     "text": [
      "abcdefghijkl\n",
      "mnopqrstuvwxyz\n"
     ]
    }
   ],
   "source": [
    "print(\"\"\"abcdefghijkl\n",
    "mnopqrstuvwxyz\"\"\")"
   ]
  },
  {
   "cell_type": "markdown",
   "id": "02f960f2-4bf5-4ced-827d-5895c680f990",
   "metadata": {},
   "source": [
    "## creating a list\n"
   ]
  },
  {
   "cell_type": "code",
   "execution_count": 23,
   "id": "91e2277a-6ce6-48a0-9ebc-03b4dfaea369",
   "metadata": {},
   "outputs": [],
   "source": [
    "x=[]"
   ]
  },
  {
   "cell_type": "code",
   "execution_count": 24,
   "id": "2e1f8ef2-bd3e-482f-8680-5e15c83c5cf4",
   "metadata": {},
   "outputs": [],
   "source": [
    "for i in range(0,10):\n",
    "    x.append(i)"
   ]
  },
  {
   "cell_type": "code",
   "execution_count": 25,
   "id": "e0fab3a9-15cf-4b13-a9a7-5eaad61c9d82",
   "metadata": {},
   "outputs": [
    {
     "data": {
      "text/plain": [
       "[0, 1, 2, 3, 4, 5, 6, 7, 8, 9]"
      ]
     },
     "execution_count": 25,
     "metadata": {},
     "output_type": "execute_result"
    }
   ],
   "source": [
    "x"
   ]
  },
  {
   "cell_type": "code",
   "execution_count": 26,
   "id": "73fa235a-233b-4be9-b18b-41f84b7b175d",
   "metadata": {},
   "outputs": [
    {
     "data": {
      "text/plain": [
       "[0, 1, 2, 3, 4, 5, 6, 7, 8, 9, 10, 11, 12, 13, 14, 15, 16, 17, 18, 19]"
      ]
     },
     "execution_count": 26,
     "metadata": {},
     "output_type": "execute_result"
    }
   ],
   "source": [
    "x=[i for i in range(0,20)]\n",
    "x"
   ]
  },
  {
   "cell_type": "code",
   "execution_count": 28,
   "id": "6b07a033-b426-4c68-965c-4fbd0506ace0",
   "metadata": {},
   "outputs": [
    {
     "data": {
      "text/plain": [
       "['P', 'y', 't', 'h', 'o', 'n']"
      ]
     },
     "execution_count": 28,
     "metadata": {},
     "output_type": "execute_result"
    }
   ],
   "source": [
    "#traverse or loop over\n",
    "x=list(\"Python\")\n",
    "x"
   ]
  },
  {
   "cell_type": "code",
   "execution_count": 29,
   "id": "597bdb9b-60a3-4da1-b38e-93104fd6fff2",
   "metadata": {},
   "outputs": [
    {
     "data": {
      "text/plain": [
       "6"
      ]
     },
     "execution_count": 29,
     "metadata": {},
     "output_type": "execute_result"
    }
   ],
   "source": [
    "len(x)"
   ]
  },
  {
   "cell_type": "code",
   "execution_count": 30,
   "id": "8c166b9b-ec18-4c69-9549-f3aa54bbc288",
   "metadata": {},
   "outputs": [
    {
     "data": {
      "text/plain": [
       "'P'"
      ]
     },
     "execution_count": 30,
     "metadata": {},
     "output_type": "execute_result"
    }
   ],
   "source": [
    "x[0]"
   ]
  },
  {
   "cell_type": "code",
   "execution_count": 33,
   "id": "7deb8114-d9e0-4789-a385-d1d6b7570ace",
   "metadata": {},
   "outputs": [
    {
     "name": "stdout",
     "output_type": "stream",
     "text": [
      "index at 0 P\n",
      "index at 1 y\n",
      "index at 2 t\n",
      "index at 3 h\n",
      "index at 4 o\n",
      "index at 5 n\n"
     ]
    }
   ],
   "source": [
    "for i in range(len(x)):\n",
    "    print(\"index at\",i,x[i])"
   ]
  },
  {
   "cell_type": "markdown",
   "id": "7ba8026c-1103-46dc-94f9-c0bc528a2aad",
   "metadata": {},
   "source": [
    "## isdecimal"
   ]
  },
  {
   "cell_type": "code",
   "execution_count": 36,
   "id": "6f516969-f716-4a2e-ba55-ff1e5dbe79cc",
   "metadata": {},
   "outputs": [],
   "source": [
    "n='qwerty'"
   ]
  },
  {
   "cell_type": "code",
   "execution_count": 37,
   "id": "27a89a93-a6ec-4957-858e-a1fd2b28eb9c",
   "metadata": {},
   "outputs": [
    {
     "data": {
      "text/plain": [
       "str"
      ]
     },
     "execution_count": 37,
     "metadata": {},
     "output_type": "execute_result"
    }
   ],
   "source": [
    "type(n)"
   ]
  },
  {
   "cell_type": "code",
   "execution_count": 41,
   "id": "98f717d9-8cc8-474a-b07f-eddc8877da14",
   "metadata": {},
   "outputs": [
    {
     "data": {
      "text/plain": [
       "False"
      ]
     },
     "execution_count": 41,
     "metadata": {},
     "output_type": "execute_result"
    }
   ],
   "source": [
    "n.isdecimal()"
   ]
  },
  {
   "cell_type": "code",
   "execution_count": 50,
   "id": "0df4d259-04ed-4066-8d8b-269ea01f1534",
   "metadata": {},
   "outputs": [
    {
     "data": {
      "text/plain": [
       "True"
      ]
     },
     "execution_count": 50,
     "metadata": {},
     "output_type": "execute_result"
    }
   ],
   "source": [
    "num='23456'\n",
    "num.isdecimal()"
   ]
  },
  {
   "cell_type": "code",
   "execution_count": 51,
   "id": "720100b4-6195-4890-b465-86efe8e6b0a0",
   "metadata": {},
   "outputs": [
    {
     "data": {
      "text/plain": [
       "False"
      ]
     },
     "execution_count": 51,
     "metadata": {},
     "output_type": "execute_result"
    }
   ],
   "source": [
    "u='2345678ABCD'\n",
    "u.isdecimal()"
   ]
  },
  {
   "cell_type": "code",
   "execution_count": 52,
   "id": "886cc373-2f37-4225-9d3e-ce68ec8024a2",
   "metadata": {},
   "outputs": [
    {
     "data": {
      "text/plain": [
       "True"
      ]
     },
     "execution_count": 52,
     "metadata": {},
     "output_type": "execute_result"
    }
   ],
   "source": [
    "num.isdigit()"
   ]
  },
  {
   "cell_type": "markdown",
   "id": "872c3c7c-5e72-4a2e-b71d-a769606c6fd7",
   "metadata": {},
   "source": [
    "## isacii method"
   ]
  },
  {
   "cell_type": "code",
   "execution_count": 54,
   "id": "a7cc1d95-ee40-46f9-8ff2-8484a25f37cc",
   "metadata": {},
   "outputs": [
    {
     "data": {
      "text/plain": [
       "True"
      ]
     },
     "execution_count": 54,
     "metadata": {},
     "output_type": "execute_result"
    }
   ],
   "source": [
    "name=\"qwerty\"\n",
    "name.isascii()"
   ]
  },
  {
   "cell_type": "code",
   "execution_count": 58,
   "id": "06a9358a-4c52-4106-acec-555b37da8743",
   "metadata": {},
   "outputs": [
    {
     "data": {
      "text/plain": [
       "True"
      ]
     },
     "execution_count": 58,
     "metadata": {},
     "output_type": "execute_result"
    }
   ],
   "source": [
    "n='!@#$      QWERTY'\n",
    "n.isascii()"
   ]
  },
  {
   "cell_type": "code",
   "execution_count": 59,
   "id": "19ee3b02-1ee0-4985-a039-1624b0a1d36b",
   "metadata": {},
   "outputs": [
    {
     "data": {
      "text/plain": [
       "\u001b[31mSignature:\u001b[39m chr(i, /)\n",
       "\u001b[31mDocstring:\u001b[39m Return a Unicode string of one character with ordinal i; 0 <= i <= 0x10ffff.\n",
       "\u001b[31mType:\u001b[39m      builtin_function_or_method"
      ]
     },
     "metadata": {},
     "output_type": "display_data"
    }
   ],
   "source": [
    "chr?"
   ]
  },
  {
   "cell_type": "code",
   "execution_count": 60,
   "id": "bd2a51c0-2771-4543-b4cb-845241da416c",
   "metadata": {},
   "outputs": [
    {
     "data": {
      "text/plain": [
       "'A'"
      ]
     },
     "execution_count": 60,
     "metadata": {},
     "output_type": "execute_result"
    }
   ],
   "source": [
    "chr(65)"
   ]
  },
  {
   "cell_type": "code",
   "execution_count": 61,
   "id": "6ec0856f-936e-4cda-ad77-08e8a982c909",
   "metadata": {},
   "outputs": [
    {
     "data": {
      "text/plain": [
       "' '"
      ]
     },
     "execution_count": 61,
     "metadata": {},
     "output_type": "execute_result"
    }
   ],
   "source": [
    "chr(32)"
   ]
  },
  {
   "cell_type": "markdown",
   "id": "edc8a2be-a271-400d-bf10-7c2360decb49",
   "metadata": {},
   "source": [
    "## isalphanum Method"
   ]
  },
  {
   "cell_type": "code",
   "execution_count": 62,
   "id": "ba344cdd-6f8b-4f6f-8c94-040eafd51b7f",
   "metadata": {},
   "outputs": [
    {
     "data": {
      "text/plain": [
       "True"
      ]
     },
     "execution_count": 62,
     "metadata": {},
     "output_type": "execute_result"
    }
   ],
   "source": [
    "name=\"Kov\"\n",
    "name.isalnum()"
   ]
  },
  {
   "cell_type": "code",
   "execution_count": 63,
   "id": "d50ad803-f202-4c8e-ab37-b458f70be3f4",
   "metadata": {},
   "outputs": [
    {
     "name": "stdout",
     "output_type": "stream",
     "text": [
      "Start your process!!!!\n"
     ]
    }
   ],
   "source": [
    "if(name.isalnum()):\n",
    "    print(\"Start your process!!!!\")"
   ]
  },
  {
   "cell_type": "code",
   "execution_count": 67,
   "id": "b5ebb5d1-ff86-4801-a3c8-ec083633319b",
   "metadata": {},
   "outputs": [
    {
     "name": "stdout",
     "output_type": "stream",
     "text": [
      "FAIL\n"
     ]
    }
   ],
   "source": [
    "x='23 wert'\n",
    "if(x.isalnum()):\n",
    "    print(\"Start your process!!!!\")\n",
    "else:\n",
    "    print(\"FAIL\")"
   ]
  },
  {
   "cell_type": "code",
   "execution_count": 69,
   "id": "2139947e-bf96-4c12-9d84-07cfb613af83",
   "metadata": {},
   "outputs": [
    {
     "name": "stdin",
     "output_type": "stream",
     "text": [
      "Enter the string: python#Programming1\n"
     ]
    },
    {
     "name": "stdout",
     "output_type": "stream",
     "text": [
      "All are not alphanumeric\n"
     ]
    }
   ],
   "source": [
    "text=input(\"Enter the string:\")\n",
    "if(text.isalnum()==True):\n",
    "    print(\"All are alphanumeric\")\n",
    "else:\n",
    "    print(\"All are not alphanumeric\")"
   ]
  },
  {
   "cell_type": "markdown",
   "id": "1433abcc-448d-41c0-9d44-2b3a503514aa",
   "metadata": {},
   "source": [
    "## Encode method"
   ]
  },
  {
   "cell_type": "code",
   "execution_count": 70,
   "id": "ac6cc75d-02f0-4521-a81e-6f8f5fd10fcc",
   "metadata": {},
   "outputs": [
    {
     "data": {
      "text/plain": [
       "str"
      ]
     },
     "execution_count": 70,
     "metadata": {},
     "output_type": "execute_result"
    }
   ],
   "source": [
    "msg=\"encoding method in python\"\n",
    "type(msg)"
   ]
  },
  {
   "cell_type": "code",
   "execution_count": 71,
   "id": "87078447-3f92-4dc4-bcc5-8495b32e245d",
   "metadata": {},
   "outputs": [
    {
     "data": {
      "text/plain": [
       "True"
      ]
     },
     "execution_count": 71,
     "metadata": {},
     "output_type": "execute_result"
    }
   ],
   "source": [
    "isinstance(msg,str)"
   ]
  },
  {
   "cell_type": "code",
   "execution_count": 72,
   "id": "3a778e45-9a16-427d-b395-73617be89bc8",
   "metadata": {},
   "outputs": [
    {
     "data": {
      "text/plain": [
       "\u001b[31mSignature:\u001b[39m msg.encode(encoding=\u001b[33m'utf-8'\u001b[39m, errors=\u001b[33m'strict'\u001b[39m)\n",
       "\u001b[31mDocstring:\u001b[39m\n",
       "Encode the string using the codec registered for encoding.\n",
       "\n",
       "encoding\n",
       "  The encoding in which to encode the string.\n",
       "errors\n",
       "  The error handling scheme to use for encoding errors.\n",
       "  The default is 'strict' meaning that encoding errors raise a\n",
       "  UnicodeEncodeError.  Other possible values are 'ignore', 'replace' and\n",
       "  'xmlcharrefreplace' as well as any other name registered with\n",
       "  codecs.register_error that can handle UnicodeEncodeErrors.\n",
       "\u001b[31mType:\u001b[39m      builtin_function_or_method"
      ]
     },
     "metadata": {},
     "output_type": "display_data"
    }
   ],
   "source": [
    "msg.encode?"
   ]
  },
  {
   "cell_type": "code",
   "execution_count": 87,
   "id": "d162b80b-8451-4f03-959f-905f19601485",
   "metadata": {},
   "outputs": [
    {
     "data": {
      "text/plain": [
       "b'encoding method in python'"
      ]
     },
     "execution_count": 87,
     "metadata": {},
     "output_type": "execute_result"
    }
   ],
   "source": [
    "q=msg.encode()\n",
    "q"
   ]
  },
  {
   "cell_type": "code",
   "execution_count": 76,
   "id": "f7b25e6f-2e1e-4da2-8868-ef19b4ad411d",
   "metadata": {},
   "outputs": [
    {
     "data": {
      "text/plain": [
       "bytes"
      ]
     },
     "execution_count": 76,
     "metadata": {},
     "output_type": "execute_result"
    }
   ],
   "source": [
    "type(q)"
   ]
  },
  {
   "cell_type": "code",
   "execution_count": 88,
   "id": "f722f7ec-6f03-45ca-a7af-11e76f9fd902",
   "metadata": {},
   "outputs": [
    {
     "data": {
      "text/plain": [
       "b'encoding method in python'"
      ]
     },
     "execution_count": 88,
     "metadata": {},
     "output_type": "execute_result"
    }
   ],
   "source": [
    "msg.encode(encoding='utf-8')"
   ]
  },
  {
   "cell_type": "code",
   "execution_count": 78,
   "id": "8ca2ff97-4033-4787-9389-9588fd1359e4",
   "metadata": {},
   "outputs": [
    {
     "data": {
      "text/plain": [
       "b'\\xff\\xfee\\x00n\\x00c\\x00o\\x00d\\x00i\\x00n\\x00g\\x00 \\x00m\\x00e\\x00t\\x00h\\x00o\\x00d\\x00 \\x00i\\x00n\\x00 \\x00p\\x00y\\x00t\\x00h\\x00o\\x00n\\x00'"
      ]
     },
     "execution_count": 78,
     "metadata": {},
     "output_type": "execute_result"
    }
   ],
   "source": [
    "msg.encode(encoding='utf-16')"
   ]
  },
  {
   "cell_type": "code",
   "execution_count": 92,
   "id": "0d938059-3264-4bc8-9acc-b699c437db04",
   "metadata": {},
   "outputs": [
    {
     "data": {
      "text/plain": [
       "b'\\xff\\xfe\\x00\\x00e\\x00\\x00\\x00n\\x00\\x00\\x00c\\x00\\x00\\x00o\\x00\\x00\\x00d\\x00\\x00\\x00i\\x00\\x00\\x00n\\x00\\x00\\x00g\\x00\\x00\\x00 \\x00\\x00\\x00m\\x00\\x00\\x00e\\x00\\x00\\x00t\\x00\\x00\\x00h\\x00\\x00\\x00o\\x00\\x00\\x00d\\x00\\x00\\x00 \\x00\\x00\\x00i\\x00\\x00\\x00n\\x00\\x00\\x00 \\x00\\x00\\x00p\\x00\\x00\\x00y\\x00\\x00\\x00t\\x00\\x00\\x00h\\x00\\x00\\x00o\\x00\\x00\\x00n\\x00\\x00\\x00'"
      ]
     },
     "execution_count": 92,
     "metadata": {},
     "output_type": "execute_result"
    }
   ],
   "source": [
    "x=msg.encode(encoding='utf-32')\n",
    "x"
   ]
  },
  {
   "cell_type": "code",
   "execution_count": 83,
   "id": "c6f93246-895e-4f78-aff6-867585346e26",
   "metadata": {},
   "outputs": [],
   "source": [
    "#decode"
   ]
  },
  {
   "cell_type": "code",
   "execution_count": 91,
   "id": "112e8f7a-c6c5-4b7f-8790-f1764c73085a",
   "metadata": {},
   "outputs": [
    {
     "ename": "AttributeError",
     "evalue": "'str' object has no attribute 'decode'",
     "output_type": "error",
     "traceback": [
      "\u001b[31m---------------------------------------------------------------------------\u001b[39m",
      "\u001b[31mAttributeError\u001b[39m                            Traceback (most recent call last)",
      "\u001b[36mCell\u001b[39m\u001b[36m \u001b[39m\u001b[32mIn[91]\u001b[39m\u001b[32m, line 1\u001b[39m\n\u001b[32m----> \u001b[39m\u001b[32m1\u001b[39m \u001b[43mmsg\u001b[49m\u001b[43m.\u001b[49m\u001b[43mdecode\u001b[49m(encoding=\u001b[33m'\u001b[39m\u001b[33mutf-8\u001b[39m\u001b[33m'\u001b[39m)\n",
      "\u001b[31mAttributeError\u001b[39m: 'str' object has no attribute 'decode'"
     ]
    }
   ],
   "source": [
    "msg.decode(encoding='utf-8')"
   ]
  },
  {
   "cell_type": "code",
   "execution_count": 93,
   "id": "c47c291c-fabe-43b7-a0b1-7d0d658759ce",
   "metadata": {},
   "outputs": [
    {
     "data": {
      "text/plain": [
       "'encoding method in python'"
      ]
     },
     "execution_count": 93,
     "metadata": {},
     "output_type": "execute_result"
    }
   ],
   "source": [
    "x.decode(encoding='utf-32')"
   ]
  },
  {
   "cell_type": "markdown",
   "id": "8b971986-74a4-43be-9e78-aa342d7fc488",
   "metadata": {},
   "source": [
    "## endswith method"
   ]
  },
  {
   "cell_type": "code",
   "execution_count": 94,
   "id": "4977bd0f-0ba6-4652-9d4e-3dc83d4af6c3",
   "metadata": {},
   "outputs": [
    {
     "data": {
      "text/plain": [
       "True"
      ]
     },
     "execution_count": 94,
     "metadata": {},
     "output_type": "execute_result"
    }
   ],
   "source": [
    "msg.endswith(\"python\")"
   ]
  },
  {
   "cell_type": "code",
   "execution_count": 96,
   "id": "523b9245-5da5-4401-963f-dfdeea8ad701",
   "metadata": {},
   "outputs": [
    {
     "data": {
      "text/plain": [
       "False"
      ]
     },
     "execution_count": 96,
     "metadata": {},
     "output_type": "execute_result"
    }
   ],
   "source": [
    "msg.endswith(\" \")"
   ]
  },
  {
   "cell_type": "code",
   "execution_count": null,
   "id": "0d1b0661-0437-4136-9c96-720600f3067a",
   "metadata": {},
   "outputs": [],
   "source": [
    "if msg.endswith(\"python\"):\n",
    "    "
   ]
  }
 ],
 "metadata": {
  "kernelspec": {
   "display_name": "Python 3 (ipykernel)",
   "language": "python",
   "name": "python3"
  },
  "language_info": {
   "codemirror_mode": {
    "name": "ipython",
    "version": 3
   },
   "file_extension": ".py",
   "mimetype": "text/x-python",
   "name": "python",
   "nbconvert_exporter": "python",
   "pygments_lexer": "ipython3",
   "version": "3.13.2"
  }
 },
 "nbformat": 4,
 "nbformat_minor": 5
}
