{
 "cells": [
  {
   "cell_type": "markdown",
   "id": "3860cd79-50b8-41f4-a669-c812e0a8cc97",
   "metadata": {},
   "source": [
    "# DAY 1 - Python"
   ]
  },
  {
   "cell_type": "markdown",
   "id": "a89d8bfe-3689-4e2b-a18e-d0e6e3261541",
   "metadata": {},
   "source": [
    "## Creation of List"
   ]
  },
  {
   "cell_type": "code",
   "execution_count": 1,
   "id": "c00039ec-1684-4e32-87f1-a64ed12103a4",
   "metadata": {},
   "outputs": [],
   "source": [
    "x=list()"
   ]
  },
  {
   "cell_type": "code",
   "execution_count": 2,
   "id": "eb79fca8-65e4-49d0-b628-6b918caa3391",
   "metadata": {},
   "outputs": [
    {
     "data": {
      "text/plain": [
       "[]"
      ]
     },
     "execution_count": 2,
     "metadata": {},
     "output_type": "execute_result"
    }
   ],
   "source": [
    "x"
   ]
  },
  {
   "cell_type": "code",
   "execution_count": 4,
   "id": "0454b481-1d45-4277-8d9f-466142151104",
   "metadata": {},
   "outputs": [
    {
     "data": {
      "text/plain": [
       "[1, 2, 3, 4]"
      ]
     },
     "execution_count": 4,
     "metadata": {},
     "output_type": "execute_result"
    }
   ],
   "source": [
    "x=[1,2,3,4]\n",
    "x"
   ]
  },
  {
   "cell_type": "code",
   "execution_count": 5,
   "id": "e5414bd2-6f01-4979-95c8-67995e26f4a2",
   "metadata": {},
   "outputs": [
    {
     "data": {
      "text/plain": [
       "['a', 'b', 'c']"
      ]
     },
     "execution_count": 5,
     "metadata": {},
     "output_type": "execute_result"
    }
   ],
   "source": [
    "x=['a','b','c']\n",
    "x"
   ]
  },
  {
   "cell_type": "code",
   "execution_count": 6,
   "id": "93afa3eb-b2d2-45d5-b3da-a351cb72c1b8",
   "metadata": {},
   "outputs": [
    {
     "name": "stdin",
     "output_type": "stream",
     "text": [
      "Enter name of your state: TamilNadu\n"
     ]
    },
    {
     "data": {
      "text/plain": [
       "['T', 'a', 'm', 'i', 'l', 'N', 'a', 'd', 'u']"
      ]
     },
     "execution_count": 6,
     "metadata": {},
     "output_type": "execute_result"
    }
   ],
   "source": [
    "x=list(input(\"Enter name of your state:\"))\n",
    "x"
   ]
  },
  {
   "cell_type": "code",
   "execution_count": 7,
   "id": "b35c7c01-c675-4517-868b-2a48ce13df4d",
   "metadata": {},
   "outputs": [
    {
     "data": {
      "text/plain": [
       "('T', 'N')"
      ]
     },
     "execution_count": 7,
     "metadata": {},
     "output_type": "execute_result"
    }
   ],
   "source": [
    "x[0],x[5]"
   ]
  },
  {
   "cell_type": "code",
   "execution_count": 8,
   "id": "315db7ce-c585-481f-b1ce-e42fef373db2",
   "metadata": {},
   "outputs": [
    {
     "data": {
      "text/plain": [
       "['T', 'a', 'm', 'i', 'l']"
      ]
     },
     "execution_count": 8,
     "metadata": {},
     "output_type": "execute_result"
    }
   ],
   "source": [
    "x[0:5]\n"
   ]
  },
  {
   "cell_type": "code",
   "execution_count": 9,
   "id": "9d0e6849-4d67-49b1-94c9-21e521cb8ec8",
   "metadata": {},
   "outputs": [
    {
     "data": {
      "text/plain": [
       "'a'"
      ]
     },
     "execution_count": 9,
     "metadata": {},
     "output_type": "execute_result"
    }
   ],
   "source": [
    "x[-8]"
   ]
  },
  {
   "cell_type": "code",
   "execution_count": 10,
   "id": "a63a1618-bfce-4ec0-a9e1-9c1585320df3",
   "metadata": {},
   "outputs": [
    {
     "data": {
      "text/plain": [
       "True"
      ]
     },
     "execution_count": 10,
     "metadata": {},
     "output_type": "execute_result"
    }
   ],
   "source": [
    "#MEMBERSHIP OPERATOR\n",
    "'T' in x"
   ]
  },
  {
   "cell_type": "code",
   "execution_count": 11,
   "id": "ac5433b2-1309-4c17-9ed3-1a3ebafb4f73",
   "metadata": {},
   "outputs": [
    {
     "data": {
      "text/plain": [
       "True"
      ]
     },
     "execution_count": 11,
     "metadata": {},
     "output_type": "execute_result"
    }
   ],
   "source": [
    "'t' not in x"
   ]
  },
  {
   "cell_type": "code",
   "execution_count": 12,
   "id": "9c93f78a-b9f0-460f-af65-baefbfc5e999",
   "metadata": {},
   "outputs": [
    {
     "data": {
      "text/plain": [
       "['T',\n",
       " 'a',\n",
       " 'm',\n",
       " 'i',\n",
       " 'l',\n",
       " 'N',\n",
       " 'a',\n",
       " 'd',\n",
       " 'u',\n",
       " 'T',\n",
       " 'a',\n",
       " 'm',\n",
       " 'i',\n",
       " 'l',\n",
       " 'N',\n",
       " 'a',\n",
       " 'd',\n",
       " 'u']"
      ]
     },
     "execution_count": 12,
     "metadata": {},
     "output_type": "execute_result"
    }
   ],
   "source": [
    "x*2"
   ]
  },
  {
   "cell_type": "code",
   "execution_count": 13,
   "id": "b3a54f65-0c38-4fd7-8343-9a78739288d2",
   "metadata": {},
   "outputs": [],
   "source": [
    "name=\"python\"\n",
    "l=list(\"python\")"
   ]
  },
  {
   "cell_type": "code",
   "execution_count": 14,
   "id": "dc770429-1d18-48fd-a9e7-682830f1dc1d",
   "metadata": {},
   "outputs": [
    {
     "data": {
      "text/plain": [
       "'p'"
      ]
     },
     "execution_count": 14,
     "metadata": {},
     "output_type": "execute_result"
    }
   ],
   "source": [
    "l[0]"
   ]
  },
  {
   "cell_type": "code",
   "execution_count": 16,
   "id": "99133dca-3a1e-422c-882b-524affa19d23",
   "metadata": {},
   "outputs": [
    {
     "data": {
      "text/plain": [
       "'P'"
      ]
     },
     "execution_count": 16,
     "metadata": {},
     "output_type": "execute_result"
    }
   ],
   "source": [
    "l[0]= \"P\"\n",
    "l[0]\n",
    "#List is mutable"
   ]
  },
  {
   "cell_type": "code",
   "execution_count": 17,
   "id": "82cf446e-d4c8-4ef9-bd92-d22e699acf6a",
   "metadata": {},
   "outputs": [
    {
     "ename": "TypeError",
     "evalue": "'str' object does not support item assignment",
     "output_type": "error",
     "traceback": [
      "\u001b[31m---------------------------------------------------------------------------\u001b[39m",
      "\u001b[31mTypeError\u001b[39m                                 Traceback (most recent call last)",
      "\u001b[36mCell\u001b[39m\u001b[36m \u001b[39m\u001b[32mIn[17]\u001b[39m\u001b[32m, line 1\u001b[39m\n\u001b[32m----> \u001b[39m\u001b[32m1\u001b[39m \u001b[43mname\u001b[49m\u001b[43m[\u001b[49m\u001b[32;43m0\u001b[39;49m\u001b[43m]\u001b[49m = \u001b[33m\"\u001b[39m\u001b[33mP\u001b[39m\u001b[33m\"\u001b[39m\n\u001b[32m      2\u001b[39m name[\u001b[32m0\u001b[39m] \n",
      "\u001b[31mTypeError\u001b[39m: 'str' object does not support item assignment"
     ]
    }
   ],
   "source": [
    "name[0] = \"P\"\n",
    "name[0] \n",
    "# string is immutable"
   ]
  },
  {
   "cell_type": "markdown",
   "id": "90d05345-39a0-406d-8a3a-a4579f493a22",
   "metadata": {},
   "source": [
    "## Comparision Operator"
   ]
  },
  {
   "cell_type": "code",
   "execution_count": 18,
   "id": "9af03bb7-7093-446e-ac31-76e437d32f72",
   "metadata": {},
   "outputs": [],
   "source": [
    "x=7\n",
    "a=\"hello\""
   ]
  },
  {
   "cell_type": "code",
   "execution_count": 23,
   "id": "958de6c0-f7dc-4a81-8832-d9e0c20fadec",
   "metadata": {},
   "outputs": [
    {
     "data": {
      "text/plain": [
       "True"
      ]
     },
     "execution_count": 23,
     "metadata": {},
     "output_type": "execute_result"
    }
   ],
   "source": [
    "x==7"
   ]
  },
  {
   "cell_type": "code",
   "execution_count": 20,
   "id": "8bfe4549-c5d4-4335-9641-351e27edb05f",
   "metadata": {},
   "outputs": [
    {
     "data": {
      "text/plain": [
       "False"
      ]
     },
     "execution_count": 20,
     "metadata": {},
     "output_type": "execute_result"
    }
   ],
   "source": [
    "x!=7"
   ]
  },
  {
   "cell_type": "code",
   "execution_count": 21,
   "id": "f38d06ca-a56b-41d3-9a29-c9e0035fed48",
   "metadata": {},
   "outputs": [
    {
     "data": {
      "text/plain": [
       "False"
      ]
     },
     "execution_count": 21,
     "metadata": {},
     "output_type": "execute_result"
    }
   ],
   "source": [
    "x<=5"
   ]
  },
  {
   "cell_type": "code",
   "execution_count": 22,
   "id": "62481d3a-7a1a-4ef2-983d-e4d2c26ea197",
   "metadata": {},
   "outputs": [
    {
     "data": {
      "text/plain": [
       "False"
      ]
     },
     "execution_count": 22,
     "metadata": {},
     "output_type": "execute_result"
    }
   ],
   "source": [
    "x>=8"
   ]
  },
  {
   "cell_type": "markdown",
   "id": "e69ec5d2-8f0c-486c-8d1d-d01457b03aae",
   "metadata": {},
   "source": [
    "## Assignment Operator"
   ]
  },
  {
   "cell_type": "code",
   "execution_count": 24,
   "id": "f9cb2ef9-9668-4c1f-b18b-51f06dff789a",
   "metadata": {},
   "outputs": [],
   "source": [
    "x=2\n",
    "y=3"
   ]
  },
  {
   "cell_type": "code",
   "execution_count": 25,
   "id": "84837003-0e1f-4d38-8cc0-e11af54de89e",
   "metadata": {},
   "outputs": [
    {
     "data": {
      "text/plain": [
       "5"
      ]
     },
     "execution_count": 25,
     "metadata": {},
     "output_type": "execute_result"
    }
   ],
   "source": [
    "x+y"
   ]
  },
  {
   "cell_type": "code",
   "execution_count": 27,
   "id": "852eb498-dfa6-43ee-81c0-7b691ca79c73",
   "metadata": {},
   "outputs": [
    {
     "data": {
      "text/plain": [
       "8"
      ]
     },
     "execution_count": 27,
     "metadata": {},
     "output_type": "execute_result"
    }
   ],
   "source": [
    "x+=3\n",
    "x"
   ]
  },
  {
   "cell_type": "code",
   "execution_count": 28,
   "id": "a1efd0e3-e1b8-4038-84af-65ad34897113",
   "metadata": {},
   "outputs": [
    {
     "data": {
      "text/plain": [
       "6"
      ]
     },
     "execution_count": 28,
     "metadata": {},
     "output_type": "execute_result"
    }
   ],
   "source": [
    "x-=2\n",
    "x"
   ]
  },
  {
   "cell_type": "code",
   "execution_count": 29,
   "id": "2d6e95d7-30bf-4364-91c6-e59364d7bb00",
   "metadata": {},
   "outputs": [
    {
     "data": {
      "text/plain": [
       "12"
      ]
     },
     "execution_count": 29,
     "metadata": {},
     "output_type": "execute_result"
    }
   ],
   "source": [
    "x*=2\n",
    "x"
   ]
  },
  {
   "cell_type": "markdown",
   "id": "ca4027e0-6383-4de6-bc56-2a2943b7b72b",
   "metadata": {},
   "source": [
    "## Varaibles in Python "
   ]
  },
  {
   "cell_type": "code",
   "execution_count": 30,
   "id": "45784abb-1f40-464e-9249-514e576c3003",
   "metadata": {},
   "outputs": [
    {
     "name": "stdout",
     "output_type": "stream",
     "text": [
      "10\n"
     ]
    }
   ],
   "source": [
    "x=10\n",
    "print(x)"
   ]
  },
  {
   "cell_type": "code",
   "execution_count": 31,
   "id": "fbadd7ce-1039-4ee3-a3b8-787381f6d779",
   "metadata": {},
   "outputs": [
    {
     "data": {
      "text/plain": [
       "float"
      ]
     },
     "execution_count": 31,
     "metadata": {},
     "output_type": "execute_result"
    }
   ],
   "source": [
    "x=12.3\n",
    "type(x)"
   ]
  },
  {
   "cell_type": "code",
   "execution_count": 32,
   "id": "80b853fd-99fe-46de-b38f-b4a1f52da880",
   "metadata": {},
   "outputs": [
    {
     "data": {
      "text/plain": [
       "str"
      ]
     },
     "execution_count": 32,
     "metadata": {},
     "output_type": "execute_result"
    }
   ],
   "source": [
    "x=\"i18n\"\n",
    "type(x)"
   ]
  },
  {
   "cell_type": "markdown",
   "id": "bdb0ca29-eddf-4b00-ad19-bf691a65ed05",
   "metadata": {},
   "source": [
    "## List "
   ]
  },
  {
   "cell_type": "code",
   "execution_count": 36,
   "id": "301394bd-aea5-4bbc-9a7b-fc87d0fad1b9",
   "metadata": {},
   "outputs": [
    {
     "ename": "TypeError",
     "evalue": "'list' object is not callable",
     "output_type": "error",
     "traceback": [
      "\u001b[31m---------------------------------------------------------------------------\u001b[39m",
      "\u001b[31mTypeError\u001b[39m                                 Traceback (most recent call last)",
      "\u001b[36mCell\u001b[39m\u001b[36m \u001b[39m\u001b[32mIn[36]\u001b[39m\u001b[32m, line 2\u001b[39m\n\u001b[32m      1\u001b[39m l1=[\u001b[32m1\u001b[39m]\n\u001b[32m----> \u001b[39m\u001b[32m2\u001b[39m \u001b[38;5;28;43mtype\u001b[39;49m\u001b[43m(\u001b[49m\u001b[43ml1\u001b[49m\u001b[43m)\u001b[49m\n",
      "\u001b[31mTypeError\u001b[39m: 'list' object is not callable"
     ]
    }
   ],
   "source": [
    "l1=[]\n",
    "type(l1)"
   ]
  },
  {
   "cell_type": "code",
   "execution_count": 43,
   "id": "464841b0-f727-41ca-a388-9f3b01d65495",
   "metadata": {},
   "outputs": [
    {
     "data": {
      "text/plain": [
       "[1, 2, 3, 4, 5]"
      ]
     },
     "execution_count": 43,
     "metadata": {},
     "output_type": "execute_result"
    }
   ],
   "source": [
    "l1=[1,2,3,4,5]\n",
    "l1"
   ]
  },
  {
   "cell_type": "code",
   "execution_count": 42,
   "id": "9a93a171-2a97-4db9-9443-c5cf9bcd03b6",
   "metadata": {},
   "outputs": [
    {
     "data": {
      "text/plain": [
       "['1', '2', '3', '4', '5', 2]"
      ]
     },
     "execution_count": 42,
     "metadata": {},
     "output_type": "execute_result"
    }
   ],
   "source": [
    "l1.append(2)\n",
    "l1"
   ]
  },
  {
   "cell_type": "code",
   "execution_count": 45,
   "id": "d2331d4c-0922-49d6-a331-097ef0beb9a8",
   "metadata": {},
   "outputs": [
    {
     "data": {
      "text/plain": [
       "[]"
      ]
     },
     "execution_count": 45,
     "metadata": {},
     "output_type": "execute_result"
    }
   ],
   "source": [
    "l1.clear()\n",
    "l1"
   ]
  },
  {
   "cell_type": "code",
   "execution_count": 46,
   "id": "95037b20-520e-4b13-bfae-a63f1c26db05",
   "metadata": {},
   "outputs": [
    {
     "data": {
      "text/plain": [
       "[1, 2, 3, 4, 5]"
      ]
     },
     "execution_count": 46,
     "metadata": {},
     "output_type": "execute_result"
    }
   ],
   "source": [
    "l1=[1,2,3,4,5]\n",
    "l1"
   ]
  },
  {
   "cell_type": "code",
   "execution_count": 47,
   "id": "5b781599-4a91-4962-8c13-f13754520991",
   "metadata": {},
   "outputs": [
    {
     "data": {
      "text/plain": [
       "[1, 2, 3, 4, 5]"
      ]
     },
     "execution_count": 47,
     "metadata": {},
     "output_type": "execute_result"
    }
   ],
   "source": [
    "l2=l1.copy()\n",
    "l2"
   ]
  },
  {
   "cell_type": "code",
   "execution_count": 48,
   "id": "bf053031-a9dd-4e17-a30f-f40b73ae0f7b",
   "metadata": {},
   "outputs": [
    {
     "data": {
      "text/plain": [
       "[1, 2, 3, 4, 5, 2]"
      ]
     },
     "execution_count": 48,
     "metadata": {},
     "output_type": "execute_result"
    }
   ],
   "source": [
    "l2.append(2)\n",
    "l2"
   ]
  },
  {
   "cell_type": "code",
   "execution_count": 49,
   "id": "2f1d65cf-bd86-4d8b-938a-75ba12fb1665",
   "metadata": {},
   "outputs": [
    {
     "data": {
      "text/plain": [
       "2"
      ]
     },
     "execution_count": 49,
     "metadata": {},
     "output_type": "execute_result"
    }
   ],
   "source": [
    "l2.count(2)"
   ]
  },
  {
   "cell_type": "code",
   "execution_count": 50,
   "id": "aa0be047-4125-4351-a408-8445ff4925c0",
   "metadata": {},
   "outputs": [
    {
     "data": {
      "text/plain": [
       "2"
      ]
     },
     "execution_count": 50,
     "metadata": {},
     "output_type": "execute_result"
    }
   ],
   "source": [
    "l2.index(3)"
   ]
  },
  {
   "cell_type": "code",
   "execution_count": 52,
   "id": "4ba6a0d6-f1a0-4b43-8649-061eba3918fa",
   "metadata": {},
   "outputs": [
    {
     "data": {
      "text/plain": [
       "[333, 333, 1, 2, 3, 4, 5, 2]"
      ]
     },
     "execution_count": 52,
     "metadata": {},
     "output_type": "execute_result"
    }
   ],
   "source": [
    "l2.insert(0,333)\n",
    "l2"
   ]
  },
  {
   "cell_type": "code",
   "execution_count": 53,
   "id": "cd53b79d-c44b-4266-99f1-b3ec1beb14ac",
   "metadata": {},
   "outputs": [
    {
     "data": {
      "text/plain": [
       "[333, 1, 2, 3, 4, 5, 2]"
      ]
     },
     "execution_count": 53,
     "metadata": {},
     "output_type": "execute_result"
    }
   ],
   "source": [
    "l2.pop(0)\n",
    "l2"
   ]
  },
  {
   "cell_type": "code",
   "execution_count": 54,
   "id": "2e941d72-9b19-4550-afbc-4143969682b0",
   "metadata": {},
   "outputs": [],
   "source": [
    "l2.remove(333)"
   ]
  },
  {
   "cell_type": "code",
   "execution_count": 55,
   "id": "6491c4bb-c3e5-4f99-be56-54ca919ce4ec",
   "metadata": {},
   "outputs": [
    {
     "data": {
      "text/plain": [
       "[1, 2, 3, 4, 5, 2]"
      ]
     },
     "execution_count": 55,
     "metadata": {},
     "output_type": "execute_result"
    }
   ],
   "source": [
    "l2"
   ]
  },
  {
   "cell_type": "code",
   "execution_count": 58,
   "id": "07d253bc-fa33-42e8-8661-38db8bbcb8c3",
   "metadata": {},
   "outputs": [
    {
     "data": {
      "text/plain": [
       "[2, 5, 4, 3, 2, 1]"
      ]
     },
     "execution_count": 58,
     "metadata": {},
     "output_type": "execute_result"
    }
   ],
   "source": [
    "l2.reverse()\n",
    "l2"
   ]
  },
  {
   "cell_type": "code",
   "execution_count": 59,
   "id": "5ef07102-03e3-4c07-93f9-386d78926392",
   "metadata": {},
   "outputs": [],
   "source": [
    "l2.sort()"
   ]
  },
  {
   "cell_type": "code",
   "execution_count": 60,
   "id": "5032d4d8-415b-4aa0-aaf7-c5f84b863f01",
   "metadata": {},
   "outputs": [
    {
     "data": {
      "text/plain": [
       "[1, 2, 2, 3, 4, 5]"
      ]
     },
     "execution_count": 60,
     "metadata": {},
     "output_type": "execute_result"
    }
   ],
   "source": [
    "l2"
   ]
  },
  {
   "cell_type": "markdown",
   "id": "0dcdd564-d44a-4a51-8a15-7afb539d2fea",
   "metadata": {},
   "source": [
    "## Python Dictionary"
   ]
  },
  {
   "cell_type": "code",
   "execution_count": 61,
   "id": "27336335-37e9-4bde-836f-ae3c9ffb3fd5",
   "metadata": {},
   "outputs": [
    {
     "data": {
      "text/plain": [
       "{'Name': 'Kov', 'Age': 20, 'Class': 'A'}"
      ]
     },
     "execution_count": 61,
     "metadata": {},
     "output_type": "execute_result"
    }
   ],
   "source": [
    "student= {\"Name\":\"Kov\",\n",
    "          \"Age\":20,\n",
    "          \"Class\":\"A\"}\n",
    "student"
   ]
  },
  {
   "cell_type": "code",
   "execution_count": 63,
   "id": "cbfb93a8-abb6-45ea-a73f-9a54ef21a156",
   "metadata": {},
   "outputs": [
    {
     "data": {
      "text/plain": [
       "{'Name': 'Kov', 'Age': 20, 'Class': 'A', 'University': 'DSU'}"
      ]
     },
     "execution_count": 63,
     "metadata": {},
     "output_type": "execute_result"
    }
   ],
   "source": [
    "student[\"University\"]=\"DSU\"\n",
    "student # Dictionary is mutable"
   ]
  },
  {
   "cell_type": "code",
   "execution_count": 64,
   "id": "64c6880b-6113-42f8-b5e9-f7d1d9b1acf7",
   "metadata": {},
   "outputs": [
    {
     "data": {
      "text/plain": [
       "20"
      ]
     },
     "execution_count": 64,
     "metadata": {},
     "output_type": "execute_result"
    }
   ],
   "source": [
    "student['Age']"
   ]
  },
  {
   "cell_type": "code",
   "execution_count": 65,
   "id": "4562ac9f-2547-4aba-b9fd-ca282715b1dc",
   "metadata": {},
   "outputs": [
    {
     "data": {
      "text/plain": [
       "'Kov'"
      ]
     },
     "execution_count": 65,
     "metadata": {},
     "output_type": "execute_result"
    }
   ],
   "source": [
    "student['Name']"
   ]
  },
  {
   "cell_type": "code",
   "execution_count": 66,
   "id": "d640a300-2724-469a-83cc-2d2d3ca4fb61",
   "metadata": {},
   "outputs": [
    {
     "name": "stdout",
     "output_type": "stream",
     "text": [
      "Name\n",
      "Age\n",
      "Class\n",
      "University\n"
     ]
    }
   ],
   "source": [
    "for i in student:\n",
    "    print(i)"
   ]
  },
  {
   "cell_type": "code",
   "execution_count": 67,
   "id": "37fa7625-cabf-46d4-8a6c-1bc067d97d68",
   "metadata": {},
   "outputs": [
    {
     "name": "stdout",
     "output_type": "stream",
     "text": [
      "Name Kov\n",
      "Age 20\n",
      "Class A\n",
      "University DSU\n"
     ]
    }
   ],
   "source": [
    "for i in student:\n",
    "    print(i,student[i])"
   ]
  },
  {
   "cell_type": "markdown",
   "id": "bbd26a54-c4fc-4db7-9c9f-60f22624c609",
   "metadata": {},
   "source": [
    "## Python OOPs Class"
   ]
  },
  {
   "cell_type": "code",
   "execution_count": 68,
   "id": "a13cf57f-559e-4d41-b976-89cbc4bd5d8c",
   "metadata": {},
   "outputs": [
    {
     "name": "stdout",
     "output_type": "stream",
     "text": [
      "10\n",
      "20\n"
     ]
    }
   ],
   "source": [
    "class sample:\n",
    "    x=10\n",
    "    y=20\n",
    "    def getdata(self):\n",
    "        print(self.x)\n",
    "        print(self.y)\n",
    "s=sample()\n",
    "s.getdata()"
   ]
  },
  {
   "cell_type": "code",
   "execution_count": 73,
   "id": "dc30a2b8-b5be-478b-a701-1ad0fb5a4212",
   "metadata": {},
   "outputs": [],
   "source": [
    "class sample:\n",
    "    def getdata(self,x,y):\n",
    "        self.x=x\n",
    "        self.y=y\n",
    "    def display(self):\n",
    "        return self.x,self.y\n",
    "s=sample()\n",
    "s.getdata(10,20)"
   ]
  },
  {
   "cell_type": "code",
   "execution_count": 76,
   "id": "21693fa1-8b3f-4ed7-aece-5e86bb5d6a6f",
   "metadata": {},
   "outputs": [
    {
     "data": {
      "text/plain": [
       "10"
      ]
     },
     "execution_count": 76,
     "metadata": {},
     "output_type": "execute_result"
    }
   ],
   "source": [
    "s.x"
   ]
  },
  {
   "cell_type": "code",
   "execution_count": 75,
   "id": "874895b6-4034-4194-8721-05476830fe74",
   "metadata": {},
   "outputs": [
    {
     "data": {
      "text/plain": [
       "20"
      ]
     },
     "execution_count": 75,
     "metadata": {},
     "output_type": "execute_result"
    }
   ],
   "source": [
    "s.y"
   ]
  },
  {
   "cell_type": "code",
   "execution_count": null,
   "id": "30d2830d-f382-4813-90cc-0842dc27b979",
   "metadata": {},
   "outputs": [],
   "source": []
  }
 ],
 "metadata": {
  "kernelspec": {
   "display_name": "Python 3 (ipykernel)",
   "language": "python",
   "name": "python3"
  },
  "language_info": {
   "codemirror_mode": {
    "name": "ipython",
    "version": 3
   },
   "file_extension": ".py",
   "mimetype": "text/x-python",
   "name": "python",
   "nbconvert_exporter": "python",
   "pygments_lexer": "ipython3",
   "version": "3.13.2"
  }
 },
 "nbformat": 4,
 "nbformat_minor": 5
}
